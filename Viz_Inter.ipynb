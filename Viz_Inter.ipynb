{
 "cells": [
  {
   "cell_type": "code",
   "execution_count": 1,
   "metadata": {},
   "outputs": [],
   "source": [
    "import numpy as np\n",
    "import plotly.graph_objs as go\n",
    "from plotly.offline import download_plotlyjs, init_notebook_mode, plot, iplot"
   ]
  },
  {
   "cell_type": "code",
   "execution_count": 2,
   "metadata": {},
   "outputs": [
    {
     "data": {
      "text/html": [
       "<script>requirejs.config({paths: { 'plotly': ['https://cdn.plot.ly/plotly-latest.min']},});if(!window.Plotly) {{require(['plotly'],function(plotly) {window.Plotly=plotly;});}}</script>"
      ],
      "text/vnd.plotly.v1+html": [
       "<script>requirejs.config({paths: { 'plotly': ['https://cdn.plot.ly/plotly-latest.min']},});if(!window.Plotly) {{require(['plotly'],function(plotly) {window.Plotly=plotly;});}}</script>"
      ]
     },
     "metadata": {},
     "output_type": "display_data"
    }
   ],
   "source": [
    "# Set up plotly\n",
    "init_notebook_mode(connected=True)\n",
    "layout = go.Layout(\n",
    "    width=1000,\n",
    "    height=700,\n",
    "    margin=go.Margin(l=100, r=100, b=20, t=20),\n",
    "    showlegend=False, \n",
    "    direction=True\n",
    ")\n",
    "config={'showLink': False}"
   ]
  },
  {
   "cell_type": "code",
   "execution_count": 3,
   "metadata": {},
   "outputs": [
    {
     "name": "stdout",
     "output_type": "stream",
     "text": [
      "(2, 22)\n"
     ]
    }
   ],
   "source": [
    "import h5py \n",
    "filename=\"path.jld\"\n",
    "file = h5py.File(filename, 'r')\n",
    "data= file[\"pos\"][()]\n",
    "file.close()\n",
    "path = data[:, 10:]\n",
    "print(path.shape)"
   ]
  },
  {
   "cell_type": "code",
   "execution_count": 4,
   "metadata": {},
   "outputs": [],
   "source": [
    "# Define a simple generator\n",
    "def rosenbrock(x, y):\n",
    "    z = (1-x)**2+100*(y-x**2)**2\n",
    "    return x, y, z"
   ]
  },
  {
   "cell_type": "code",
   "execution_count": null,
   "metadata": {},
   "outputs": [],
   "source": [
    "# Plot the surface\n",
    "x = np.linspace(-1.0, 2.0, 100)\n",
    "y = np.linspace(-0.1, 2.5, 100)\n",
    "x, y = np.meshgrid(x, y)\n",
    "x_1, x_2, x_3 = rosenbrock(x, y)\n",
    "\n",
    "surface = go.Surface(x=x_1, y=x_2, z=x_3, showscale=False)\n",
    "data = [surface]\n",
    "iplot(go.Figure(data=data, layout=layout), config=config)"
   ]
  },
  {
   "cell_type": "code",
   "execution_count": null,
   "metadata": {},
   "outputs": [],
   "source": [
    "f = lambda x, y: (1-x)**2+100*(y-x**2)**2\n",
    "x_path = path[0,:-1]\n",
    "y_path = path[1,:-1]\n",
    "f_path = f(*(path[::,1:]-path[::,:-1]))\n",
    "\n",
    "trace = go.Scatter3d(\n",
    "    x=x_path, y=y_path, z=f_path,\n",
    "    marker=dict(\n",
    "        size=2.5,\n",
    "        color='orange',\n",
    "        colorscale='Viridis',\n",
    "        symbol = 'hexagram'\n",
    "    ),\n",
    "    line=dict(\n",
    "        color='black',\n",
    "        width=2.5\n",
    "    )\n",
    ")\n",
    "\n",
    "data = [trace, surface]\n",
    "iplot(go.Figure(data=data, layout=layout), config=config)\n",
    "print(x_path)\n",
    "print(y_path)\n",
    "print(f_path)"
   ]
  }
 ],
 "metadata": {
  "kernelspec": {
   "display_name": "Python 3",
   "language": "python",
   "name": "python3"
  },
  "language_info": {
   "codemirror_mode": {
    "name": "ipython",
    "version": 3
   },
   "file_extension": ".py",
   "mimetype": "text/x-python",
   "name": "python",
   "nbconvert_exporter": "python",
   "pygments_lexer": "ipython3",
   "version": "3.5.5"
  }
 },
 "nbformat": 4,
 "nbformat_minor": 2
}
