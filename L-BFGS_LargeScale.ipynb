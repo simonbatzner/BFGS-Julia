{
 "cells": [
  {
   "cell_type": "markdown",
   "metadata": {},
   "source": [
    "# <div style=\"text-align: center\">18.335/6.337 Final Project - The L-BFGS algorithm</div>\n",
    "##  <div style=\"text-align: center\">Large-Scale Problem (using Strong Wolfe Line-Search)</div>\n",
    "### <div style=\"text-align: center\">Created by Yusu Liu and Simon Batzner</div>"
   ]
  },
  {
   "cell_type": "markdown",
   "metadata": {},
   "source": [
    "## Import test functions and set up environment"
   ]
  },
  {
   "cell_type": "code",
   "execution_count": 61,
   "metadata": {},
   "outputs": [
    {
     "data": {
      "text/plain": [
       "lbfgs! (generic function with 4 methods)"
      ]
     },
     "execution_count": 61,
     "metadata": {},
     "output_type": "execute_result"
    }
   ],
   "source": [
    "function lbfgs!(F, x0, maxIt, m, save_pos = 1, τgrad=1e-8, verbose = 0)\n",
    "    #INPUT\n",
    "    # F: function to be optimized\n",
    "    # x0: initial guess\n",
    "    # maxIt: maximum Iteration\n",
    "    # m: last m input differences and gradient differences are stored\n",
    "    # τgrad: tolerance for norm of the slope\n",
    "\n",
    "\n",
    "    #OUTPUT\n",
    "    #x1: optimized variable\n",
    "    #f1: function value at x1\n",
    "    #k iteration number\n",
    "    n = size(x0, 1)\n",
    "    pos = zeros(maxIt, n)\n",
    "    k=0\n",
    "    n=length(x0)\n",
    "    Sm=zeros(n,m) #S_k=x_k+1-x_k\n",
    "    Ym=zeros(n,m) #Y_k=g_k+1-g_k\n",
    "\n",
    "    f0,g0=F(x0)\n",
    "    #use the simplest line search to find step size\n",
    "    α, f1, g1=strongwolfe(F,-g0,x0,f0,g0)\n",
    "    x1 = x0 - α.*g0\n",
    "    k=1\n",
    "    if save_pos == 1\n",
    "        pos[1, :] = x0\n",
    "        pos[2, :] = x1\n",
    "    end\n",
    "\n",
    "    while true\n",
    "       if k>maxIt\n",
    "           break\n",
    "       end\n",
    "       gnorm=norm(g0)\n",
    "       if gnorm < τgrad\n",
    "           break\n",
    "       end\n",
    "       s0=x1-x0\n",
    "       y0=g1-g0\n",
    "       #println(\"y0=$y0\")\n",
    "\n",
    "       H0=s0'*y0/(y0'*y0) #hessian diagonal satisfying secant condition\n",
    "       # println(H0)\n",
    "       # if H0<0\n",
    "       #     H0=1\n",
    "       # end\n",
    "       # println(H0)\n",
    "       #update Sm and Ym\n",
    "       if k<=m\n",
    "           Sm[:,k]=s0\n",
    "           Ym[:,k]=y0\n",
    "           p=-approxInvHess(g1,Sm[:,1:k],Ym[:,1:k],H0)\n",
    "       # only keep m entries in Sm and Ym so purge the old ones\n",
    "       elseif (k>m)\n",
    "           Sm[:,1:(m-1)]=Sm[:,2:m]\n",
    "           Ym[:,1:(m-1)]=Sm[:,2:m]\n",
    "           Sm[:,m]=s0\n",
    "           Ym[:,m]=y0\n",
    "           p=-approxInvHess(g1,Sm,Ym,H0)\n",
    "       end\n",
    "       # new direction=p, find new step size\n",
    "       α, fs, gs=strongwolfe(F,p,x1,f1,g1)\n",
    "       #update for next iteration\n",
    "       x0=x1\n",
    "       g0=g1\n",
    "       x1=x1+α.*p\n",
    "       pos[k+1, :] = x1\n",
    "       f1=fs\n",
    "       g1=gs\n",
    "       k=k+1\n",
    "\n",
    "       if verbose == 1\n",
    "           println(\"It=$k,x=$x1\")\n",
    "        end\n",
    "    end\n",
    "\n",
    "    k=k-1\n",
    "    if save_pos == 1\n",
    "        return x1, f1, k, pos\n",
    "    else \n",
    "        return x1, f1, k\n",
    "    end\n",
    "end"
   ]
  },
  {
   "cell_type": "code",
   "execution_count": 62,
   "metadata": {},
   "outputs": [
    {
     "data": {
      "text/plain": [
       "strongwolfe (generic function with 2 methods)"
      ]
     },
     "execution_count": 62,
     "metadata": {},
     "output_type": "execute_result"
    }
   ],
   "source": [
    "function strongwolfe(F,d,x0,fx0,gx0,maxIt=100)\n",
    "   α_m=20\n",
    "   α_p=0\n",
    "   c1=1e-4\n",
    "   c2=0.9\n",
    "   α_x=1\n",
    "   gx0=copy(gx0'*d)\n",
    "   fxp=copy(fx0)\n",
    "   gxp=copy(gx0)\n",
    "   i=1\n",
    "   α_s=0\n",
    "   fs=copy(fx0)\n",
    "   gs=copy(gx0)\n",
    "   while true\n",
    "       xx=x0+α_x*d\n",
    "       fxx,gxx=F(xx)\n",
    "       fs=copy(fxx)\n",
    "       gs=copy(gxx)\n",
    "       gxx=copy(gxx'*d)\n",
    "\n",
    "       if (fxx>(fx0+c1*α_x*gx0)[1]) || (i>1) & (fxx>=fxp)\n",
    "           α_s,fs,gs=zoom(F,x0,d,α_p,α_x,fx0,gx0)\n",
    "           return α_s,fs,gs\n",
    "       end\n",
    "       if abs(gxx)<=-c2*(gx0)\n",
    "           α_s=copy(α_x)\n",
    "           return α_s,fs,gs\n",
    "       end\n",
    "       if gxx>=0\n",
    "       #if abs.(gxx)[1]>=0 && abs.(gxx)[2]>=0\n",
    "           α_s,fs,gs=zoom(F,x0,d,α_x,α_p,fx0,gx0)\n",
    "           return α_s,fs,gs\n",
    "       end\n",
    "       α_p=copy(α_x)\n",
    "       fxp=copy(fxx)\n",
    "       gxp=copy(gxx)\n",
    "\n",
    "       if i>maxIt\n",
    "           α_s=α_x\n",
    "           return α_s,fs,gs\n",
    "\n",
    "       end\n",
    "       r=0.8\n",
    "       #r=0.8\n",
    "       α_x=α_x+(α_m-α_x)*r\n",
    "       i=i+1\n",
    "\n",
    "   end\n",
    "   return α_s,fs,gs\n",
    "end"
   ]
  },
  {
   "cell_type": "code",
   "execution_count": 63,
   "metadata": {},
   "outputs": [
    {
     "data": {
      "text/plain": [
       "zoom (generic function with 2 methods)"
      ]
     },
     "execution_count": 63,
     "metadata": {},
     "output_type": "execute_result"
    }
   ],
   "source": [
    "function zoom(F,x0,d,α_l,α_h,fx0,gx0,maxIt=10)\n",
    "   c1=1e-4\n",
    "   c2=0.9\n",
    "   i=0\n",
    "   α_s=0\n",
    "   fs=copy(fx0)\n",
    "   gs=copy(gx0)\n",
    "   while true\n",
    "       α_x=0.5*(α_l+α_h)\n",
    "       α_s=copy(α_x)\n",
    "       xx=x0+α_x*d\n",
    "       fxx,gxx=F(xx)\n",
    "       fs=copy(fxx)\n",
    "       gs=copy(gxx)\n",
    "       gxx=gxx'*d\n",
    "       xl=x0+α_l*d\n",
    "       fxl,gxl=F(xl)\n",
    "       if (fxx>(fx0+c1*α_x*gx0)[1]) || fxx>=fxl\n",
    "           α_h=copy(α_x)\n",
    "       else\n",
    "           if abs(gxx)[1]<=-c2*(gx0)\n",
    "               α_s=copy(α_x)\n",
    "               return α_s,fs,gs\n",
    "           end\n",
    "           if gxx*(α_h-α_l)[1]>=0\n",
    "               α_h=copy(α_l)\n",
    "           end\n",
    "           α_l=copy(α_x)\n",
    "       end\n",
    "       i=i+1\n",
    "       if i>maxIt\n",
    "           α_s=copy(α_x)\n",
    "           return α_s,fs,gs\n",
    "       end\n",
    "   end\n",
    "\n",
    "   return α_s,fs,gs\n",
    "end"
   ]
  },
  {
   "cell_type": "code",
   "execution_count": 64,
   "metadata": {},
   "outputs": [
    {
     "data": {
      "text/plain": [
       "approxInvHess (generic function with 2 methods)"
      ]
     },
     "execution_count": 64,
     "metadata": {},
     "output_type": "execute_result"
    }
   ],
   "source": [
    "function approxInvHess(g,S,Y,H0,n=2)\n",
    "    #INPUT\n",
    "\n",
    "    #g: gradient nx1 vector\n",
    "    #S: nxk matrixs storing S[i]=x[i+1]-x[i]\n",
    "    #Y: nxk matrixs storing Y[i]=g[i+1]-g[i]\n",
    "    #H0: initial hessian diagnol scalar\n",
    "\n",
    "    #OUTPUT\n",
    "    # p:  the approximate inverse hessian multiplied by the gradient g\n",
    "    #     which is the new direction\n",
    "    #notation follows:\n",
    "    #https://en.wikipedia.org/wiki/Limited-memory_BFGS\n",
    "\n",
    "    n,k=size(S)\n",
    "    rho=zeros(k)\n",
    "    for i=1:k\n",
    "        rho[i].=abs(1/(Y[:,i]'*S[:,i]))\n",
    "    end\n",
    "\n",
    "\n",
    "    q=zeros(n,k+1)\n",
    "    r=zeros(n,1)\n",
    "    α=zeros(k,1)\n",
    "    β=zeros(k,1)\n",
    "\n",
    "    q[:,k+1]=g\n",
    "\n",
    "    for i=k:-1:1\n",
    "        α[i].=rho[i]*S[:,i]'*q[:,i+1]\n",
    "        q[:,i].=q[:,i+1]-α[i]*Y[:,i]\n",
    "    end\n",
    "\n",
    "    z=zeros(n)\n",
    "    z.=H0*q[:,1]\n",
    "\n",
    "\n",
    "    for i=1:k\n",
    "        β[i].=rho[i]*Y[:,i]'*z\n",
    "        z.=z+S[:,i]*(α[i]-β[i])\n",
    "    end\n",
    "\n",
    "    p=copy(z)\n",
    "\n",
    "    return p\n",
    "end"
   ]
  },
  {
   "cell_type": "markdown",
   "metadata": {},
   "source": [
    "## First Test"
   ]
  },
  {
   "cell_type": "code",
   "execution_count": 59,
   "metadata": {},
   "outputs": [
    {
     "name": "stdout",
     "output_type": "stream",
     "text": [
      "Final f was 1108.1947187850124\n",
      "\n",
      "===============================================================\n",
      "Results:\n",
      "===============================================================\n",
      "* Algorithm: L-BFGS w/ StrongWolfe - own implementation\n",
      " * Function: Engvall with n = 1000\n",
      " * Minimum: 1108.1947187850124\n",
      " * Iterations: 116\n",
      " * Convergence to within 0.001: false\n"
     ]
    }
   ],
   "source": [
    "n = 1000\n",
    "\n",
    "##################\n",
    "include(\"engvall.jl\")\n",
    "x0 = rand(n)*20; \n",
    "tol = 1\n",
    "m = 2\n",
    "t = 0.0\n",
    "tol = 1e-3\n",
    "bool = false\n",
    "\n",
    "if n === 1000\n",
    "    x1, f1, k, pos=lbfgs!(engvall_1000, x0, 1000, m); \n",
    "    pos = pos[1:(k+1), :]; \n",
    "    t += @elapsed lbfgs!(engvall_1000, x0, 1000, m); \n",
    "    \n",
    "    if norm(f1 - 1108) > tol\n",
    "        bool = false\n",
    "    else\n",
    "        bool = true\n",
    "    end\n",
    "    fun = \"Engvall with n = $n\"\n",
    "    \n",
    "    println(\"Final f was $f1\")\n",
    "elseif n === 5000\n",
    "    x1, f1, k, pos=lbfgs!(engvall_5000, x0, 1000, m); \n",
    "    pos = pos[1:(k+1), :]; \n",
    "    t += @elapsed lbfgs!(engvall_5000, x0, 1000, m); \n",
    "    \n",
    "    if norm(f1 - 5548) > tol\n",
    "        bool = false\n",
    "    else\n",
    "        bool = true\n",
    "    end\n",
    "    fun = \"Engvall with n = $n\"\n",
    "    \n",
    "    println(\"Final f was $f1\")\n",
    "end\n",
    " \n",
    "println(\"\\n===============================================================\\nResults:\\n===============================================================\")\n",
    "println(\"* Algorithm: L-BFGS w/ StrongWolfe - own implementation\")\n",
    "println(\" * Function: $(fun)\")\n",
    "println(\" * Minimum: $(f1)\")\n",
    "println(\" * Iterations: $(k)\")\n",
    "println(\" * Convergence to within $(tol): $(conv)\")"
   ]
  },
  {
   "cell_type": "markdown",
   "metadata": {},
   "source": [
    "# Iterate over Tests"
   ]
  },
  {
   "cell_type": "code",
   "execution_count": 67,
   "metadata": {},
   "outputs": [
    {
     "name": "stdout",
     "output_type": "stream",
     "text": [
      "2\n",
      "Final f was 1108.1947187850153\n",
      "4\n"
     ]
    },
    {
     "ename": "LoadError",
     "evalue": "\u001b[91mInterruptException:\u001b[39m",
     "output_type": "error",
     "traceback": [
      "\u001b[91mInterruptException:\u001b[39m",
      "",
      "Stacktrace:",
      " [1] \u001b[1mengvall_1000\u001b[22m\u001b[22m\u001b[1m(\u001b[22m\u001b[22m::Array{Float64,1}\u001b[1m)\u001b[22m\u001b[22m at \u001b[1m/Users/simonbatzner1/Desktop/L-BFGS-Julia/engvall.jl:7\u001b[22m\u001b[22m",
      " [2] \u001b[1mstrongwolfe\u001b[22m\u001b[22m\u001b[1m(\u001b[22m\u001b[22m::#engvall_1000, ::Array{Float64,1}, ::Array{Float64,1}, ::Float64, ::Array{Float64,1}, ::Int64\u001b[1m)\u001b[22m\u001b[22m at \u001b[1m./In[62]:16\u001b[22m\u001b[22m",
      " [3] \u001b[1mlbfgs!\u001b[22m\u001b[22m\u001b[1m(\u001b[22m\u001b[22m::#engvall_1000, ::Array{Float64,1}, ::Int64, ::Int64, ::Int64, ::Float64, ::Int64\u001b[1m)\u001b[22m\u001b[22m at \u001b[1m./In[61]:63\u001b[22m\u001b[22m",
      " [4] \u001b[1mmacro expansion\u001b[22m\u001b[22m at \u001b[1m./In[67]:18\u001b[22m\u001b[22m [inlined]",
      " [5] \u001b[1manonymous\u001b[22m\u001b[22m at \u001b[1m./<missing>:?\u001b[22m\u001b[22m",
      " [6] \u001b[1minclude_string\u001b[22m\u001b[22m\u001b[1m(\u001b[22m\u001b[22m::String, ::String\u001b[1m)\u001b[22m\u001b[22m at \u001b[1m./loading.jl:522\u001b[22m\u001b[22m"
     ]
    }
   ],
   "source": [
    "n = 1000\n",
    "\n",
    "##################\n",
    "n_x0 = 1\n",
    "tol = 1\n",
    "k_mat = zeros(5,1)\n",
    "cnt = 1\n",
    "\n",
    "# outer loop: different number of past updates stored m \n",
    "for m = 2:2:4\n",
    "    k_tot = 0 \n",
    "    println(m)\n",
    "    # inner loop: n_x0 different starting point\n",
    "    for i = 1:n_x0\n",
    "        x0 = rand(n); \n",
    "        bool = false\n",
    "        if n === 1000\n",
    "            x1, f1, k, pos = lbfgs!(engvall_1000, x0, 1000, m); \n",
    "            k_tot += k  \n",
    "\n",
    "            fun = \"Engvall with n = $n\"\n",
    "            println(\"Final f was $f1\")\n",
    "            \n",
    "        elseif n === 5000\n",
    "            x1, f1, k, pos = lbfgs!(engvall_5000, x0, 1000, m); \n",
    "            k_tot += k\n",
    "\n",
    "            fun = \"Engvall with n = $n\"\n",
    "            println(\"Final f was $f1\")\n",
    "        end\n",
    "    end\n",
    "    \n",
    "    k_mat[cnt] = k_tot\n",
    "    cnt += 1\n",
    "end\n",
    " \n",
    "println(\"\\n===============================================================\\nResults:\\n===============================================================\")\n",
    "println(\"* Algorithm: L-BFGS w/ StrongWolfe - own implementation\")\n",
    "println(\" * Function: $(fun)\")\n",
    "println(\" * Minimum: $(f1)\")\n",
    "for i = 1:5\n",
    "    println(\" * Average number of Iterations for m = $(i*2): $(k_mat[i]\")\n",
    "end"
   ]
  },
  {
   "cell_type": "code",
   "execution_count": null,
   "metadata": {},
   "outputs": [],
   "source": []
  }
 ],
 "metadata": {
  "kernelspec": {
   "display_name": "Julia 0.6.2",
   "language": "julia",
   "name": "julia-0.6"
  },
  "language_info": {
   "file_extension": ".jl",
   "mimetype": "application/julia",
   "name": "julia",
   "version": "0.6.2"
  }
 },
 "nbformat": 4,
 "nbformat_minor": 2
}
