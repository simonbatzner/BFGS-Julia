{
 "cells": [
  {
   "cell_type": "markdown",
   "metadata": {},
   "source": [
    "# <div style=\"text-align: center\">18.335/6.337 Final Project - The L-BFGS algorithm</div>\n",
    "##  <div style=\"text-align: center\">Strong Wolfe Line-Search</div>\n",
    "### <div style=\"text-align: center\">Created by Yusu Liu and Simon Batzner</div>"
   ]
  },
  {
   "cell_type": "markdown",
   "metadata": {},
   "source": [
    "## Import test functions and set up environment"
   ]
  },
  {
   "cell_type": "code",
   "execution_count": 242,
   "metadata": {},
   "outputs": [
    {
     "data": {
      "text/plain": [
       "2"
      ]
     },
     "execution_count": 242,
     "metadata": {},
     "output_type": "execute_result"
    }
   ],
   "source": [
    "include(\"testfns.jl\")\n",
    "m = 2"
   ]
  },
  {
   "cell_type": "code",
   "execution_count": 243,
   "metadata": {},
   "outputs": [
    {
     "data": {
      "text/plain": [
       "lbfgs! (generic function with 3 methods)"
      ]
     },
     "execution_count": 243,
     "metadata": {},
     "output_type": "execute_result"
    }
   ],
   "source": [
    "function lbfgs!(F, x0,maxIt,m,τgrad=1e-5, verbose = 0)\n",
    "    #INPUT\n",
    "    # F: function to be optimized\n",
    "    # x0: initial guess\n",
    "    # maxIt: maximum Iteration\n",
    "    # m: last m input differences and gradient differences are stored\n",
    "    # τgrad: tolerance for norm of the slope\n",
    "\n",
    "\n",
    "    #OUTPUT\n",
    "    #x1: optimized variable\n",
    "    #f1: function value at x1\n",
    "    #k iteration number\n",
    "\n",
    "    k=0\n",
    "    n=length(x0)\n",
    "    Sm=zeros(n,m) #S_k=x_k+1-x_k\n",
    "    Ym=zeros(n,m) #Y_k=g_k+1-g_k\n",
    "    f0,g0=F(x0)\n",
    "    #use the simplest line search to find step size\n",
    "    α, f1, g1=strongwolfe(F,-g0,x0,f0,g0)\n",
    "    x1 = x0 - α.*g0\n",
    "    k=1\n",
    "\n",
    "    while true\n",
    "        if k>maxIt\n",
    "            break\n",
    "        end\n",
    "        gnorm=norm(g0)\n",
    "        if gnorm < τgrad\n",
    "            break\n",
    "        end\n",
    "        s0=x1-x0\n",
    "        y0=g1-g0\n",
    "        #println(\"y0=$y0\")\n",
    "        H0=s0'*y0/(y0'*y0) #hessian diagonal satisfying secant condition\n",
    "\n",
    "        #update Sm and Ym\n",
    "        if k<=m\n",
    "            Sm[:,k]=s0\n",
    "            Ym[:,k]=y0\n",
    "            p=-approxInvHess(g1,Sm[:,1:k],Ym[:,1:k],H0)\n",
    "        # only keep m entries in Sm and Ym so purge the old ones\n",
    "        elseif (k>m)\n",
    "            Sm[:,1:(m-1)]=Sm[:,2:m]\n",
    "            Ym[:,1:(m-1)]=Sm[:,2:m]\n",
    "            Sm[:,m]=s0\n",
    "            Ym[:,m]=y0\n",
    "            p=-approxInvHess(g1,Sm,Ym,H0)\n",
    "        end\n",
    "        # new direction=p, find new step size\n",
    "        α, fs, gs=strongwolfe(F,p,x1,f1,g1)\n",
    "        #update for next iteration\n",
    "        x0=x1\n",
    "        g0=g1\n",
    "        x1=x1+α.*p\n",
    "        f1=fs\n",
    "        g1=gs\n",
    "        k=k+1\n",
    "        \n",
    "        if verbose == 1\n",
    "            println(\"It=$k,x=$x1\")\n",
    "        end\n",
    "    end\n",
    "    k=k-1\n",
    "    return x1, f1, k\n",
    "end"
   ]
  },
  {
   "cell_type": "code",
   "execution_count": 244,
   "metadata": {},
   "outputs": [
    {
     "data": {
      "text/plain": [
       "strongwolfe (generic function with 2 methods)"
      ]
     },
     "execution_count": 244,
     "metadata": {},
     "output_type": "execute_result"
    }
   ],
   "source": [
    "function strongwolfe(F,d,x0,fx0,gx0,maxIt=5)\n",
    "# strong wolfe\n",
    "    α_m=20\n",
    "    α_p=0\n",
    "    c1=1e-4\n",
    "    c2=0.9\n",
    "    α_x=1\n",
    "    gx0=copy(gx0'*d)\n",
    "    fxp=copy(fx0)\n",
    "    gxp=copy(gx0)\n",
    "    i=1\n",
    "    α_s=0\n",
    "    fs=copy(fx0)\n",
    "    gs=copy(gx0)\n",
    "    while true\n",
    "        xx=x0+α_x*d\n",
    "        fxx,gxx=F(xx)\n",
    "        fs=copy(fxx)\n",
    "        gs=copy(gxx)\n",
    "        gxx=copy(gxx'*d)\n",
    "\n",
    "        if (fxx>(fx0+c1*α_x*gx0)[1]) || (i>1) & (fxx>=fxp)\n",
    "            α_s,fs,gs=zoom(F,x0,d,α_p,α_x,fx0,gx0)\n",
    "            return α_s,fs,gs\n",
    "        end\n",
    "        if abs(gxx)<=-c2*(gx0)\n",
    "            α_s=copy(α_x)\n",
    "            return α_s,fs,gs\n",
    "        end\n",
    "        if gxx>=0\n",
    "        #if abs.(gxx)[1]>=0 && abs.(gxx)[2]>=0\n",
    "            α_s,fs,gs=zoom(F,x0,d,α_x,α_p,fx0,gx0)\n",
    "            return α_s,fs,gs\n",
    "        end\n",
    "        α_p=copy(α_x)\n",
    "        fxp=copy(fxx)\n",
    "        gxp=copy(gxx)\n",
    "\n",
    "        if i>maxIt\n",
    "            α_s=α_x\n",
    "            return α_s,fs,gs\n",
    "\n",
    "        end\n",
    "        r=0.8\n",
    "        #r=0.8\n",
    "        α_x=α_x+(α_m-α_x)*r\n",
    "        i=i+1\n",
    "\n",
    "    end\n",
    "    return α_s,fs,gs\n",
    "end"
   ]
  },
  {
   "cell_type": "code",
   "execution_count": 245,
   "metadata": {},
   "outputs": [
    {
     "data": {
      "text/plain": [
       "zoom (generic function with 2 methods)"
      ]
     },
     "execution_count": 245,
     "metadata": {},
     "output_type": "execute_result"
    }
   ],
   "source": [
    "function zoom(F,x0,d,α_l,α_h,fx0,gx0,maxIt=5)\n",
    "    c1=1e-4\n",
    "    c2=0.9\n",
    "    i=0\n",
    "    α_s=0\n",
    "    fs=copy(fx0)\n",
    "    gs=copy(gx0)\n",
    "    while true\n",
    "        α_x=0.5*(α_l+α_h)\n",
    "        α_s=copy(α_x)\n",
    "        xx=x0+α_x*d\n",
    "        fxx,gxx=F(xx)\n",
    "        fs=copy(fxx)\n",
    "        gs=copy(gxx)\n",
    "        gxx=gxx'*d\n",
    "        xl=x0+α_l*d\n",
    "        fxl,gxl=F(xl)\n",
    "        if (fxx>(fx0+c1*α_x*gx0)[1]) || fxx>=fxl\n",
    "            α_h=copy(α_x)\n",
    "        else\n",
    "            if abs(gxx)[1]<=-c2*(gx0)\n",
    "                α_s=copy(α_x)\n",
    "                return α_s,fs,gs\n",
    "            end\n",
    "            if gxx*(α_h-α_l)[1]>=0\n",
    "                α_h=copy(α_l)\n",
    "            end\n",
    "            α_l=copy(α_x)\n",
    "        end\n",
    "        i=i+1\n",
    "        if i>maxIt\n",
    "            α_s=copy(α_x)\n",
    "            return α_s,fs,gs\n",
    "        end\n",
    "    end\n",
    "    return α_s,fs,gs\n",
    "end"
   ]
  },
  {
   "cell_type": "code",
   "execution_count": 246,
   "metadata": {},
   "outputs": [
    {
     "data": {
      "text/plain": [
       "approxInvHess (generic function with 1 method)"
      ]
     },
     "execution_count": 246,
     "metadata": {},
     "output_type": "execute_result"
    }
   ],
   "source": [
    "function approxInvHess(g,S,Y,H0)\n",
    "    #INPUT\n",
    "\n",
    "    #g: gradient nx1 vector\n",
    "    #S: nxk matrixs storing S[i]=x[i+1]-x[i]\n",
    "    #Y: nxk matrixs storing Y[i]=g[i+1]-g[i]\n",
    "    #H0: initial hessian diagnol scalar\n",
    "\n",
    "    #OUTPUT\n",
    "    # p:  the approximate inverse hessian multiplied by the gradient g\n",
    "    #     which is the new direction\n",
    "    #notation follows:\n",
    "    #https://en.wikipedia.org/wiki/Limited-memory_BFGS\n",
    "\n",
    "    n,k=size(S)\n",
    "    rho=zeros(k)\n",
    "    for i=1:k\n",
    "        rho[i]=1/(Y[:,i]'*S[:,i])\n",
    "    end\n",
    "\n",
    "    q=zeros(n,k+1)\n",
    "    r=zeros(n,1)\n",
    "    α=zeros(k,1)\n",
    "    β=zeros(k,1)\n",
    "\n",
    "    q[:,k+1]=g\n",
    "\n",
    "    for i=k:-1:1\n",
    "        α[i]=rho[i]*S[:,i]'*q[:,i+1]\n",
    "        q[:,i]=q[:,i+1]-α[i]*Y[:,i]\n",
    "    end\n",
    "\n",
    "    z=H0*q[:,1]\n",
    "\n",
    "\n",
    "    for i=1:k\n",
    "        β[i]=rho[i]*Y[:,i]'*z\n",
    "        z=z+S[:,i]*(α[i]-β[i])\n",
    "    end\n",
    "\n",
    "    p=z\n",
    "\n",
    "    return p\n",
    "end"
   ]
  },
  {
   "cell_type": "markdown",
   "metadata": {},
   "source": [
    "## First Test"
   ]
  },
  {
   "cell_type": "code",
   "execution_count": 258,
   "metadata": {},
   "outputs": [
    {
     "data": {
      "text/plain": [
       "([1.0, 1.0], 1.0290199155525137e-13, 48)"
      ]
     },
     "execution_count": 258,
     "metadata": {},
     "output_type": "execute_result"
    }
   ],
   "source": [
    "x0 = [1,3]\n",
    "x1, f1, k=lbfgs!(rosenbrock, x0, 100, m)"
   ]
  },
  {
   "cell_type": "markdown",
   "metadata": {},
   "source": [
    "## Define Functions and intervals to scan over"
   ]
  },
  {
   "cell_type": "code",
   "execution_count": 259,
   "metadata": {},
   "outputs": [
    {
     "data": {
      "text/plain": [
       "test_range (generic function with 3 methods)"
      ]
     },
     "execution_count": 259,
     "metadata": {},
     "output_type": "execute_result"
    }
   ],
   "source": [
    "function test_range(fun, step, tol)\n",
    "    \n",
    "    if fun == rosenbrock\n",
    "        x1_opt = [1.0, 1.0]\n",
    "        a0 = -2.048\n",
    "        a1 = 2.048\n",
    "        b0 = -2.048\n",
    "        b1 = 2.048\n",
    "        println(\"Scanning from $(a0) to $(a1) and from $(b0) to $(b1)\")\n",
    "    elseif fun == himmelblau\n",
    "        x1_opt_arry = [[3,2], [-2.805118, 3.131312], [-3.779310, -3.283186], [3.584428, -1.848126]]\n",
    "        a0 = -10\n",
    "        a1 = 10\n",
    "        b0 = -10\n",
    "        b1 = 10\n",
    "        println(\"Scanning from $(a0) to $(a1) and from $(b0) to $(b1)\")\n",
    "    elseif fun == booth\n",
    "        x1_opt = [1,3]\n",
    "        a0 = -10\n",
    "        a1 = 10\n",
    "        b0 = -10\n",
    "        b1 = 10\n",
    "        println(\"Scanning from $(a0) to $(a1) and from $(b0) to $(b1)\")\n",
    "    elseif fun == bohachevsky1\n",
    "        x1_opt = [0,0]\n",
    "        a0 = -100\n",
    "        a1 = 100\n",
    "        b0 = -100\n",
    "        b1 = 100\n",
    "        println(\"Scanning from $(a0) to $(a1) and from $(b0) to $(b1)\")\n",
    "    else \n",
    "        println(\"ERORR: provide proper test function.\")\n",
    "    end\n",
    "    \n",
    "    for a in a0:step:a1\n",
    "        for b in b0:step:b1\n",
    "            \n",
    "            x0 = [a, b]\n",
    "            x1, f1, k=lbfgs!(fun, x0, 100, 2); \n",
    "            \n",
    "            if fun == himmelblau\n",
    "                println(\"\\nERROR: Himmelblau not properly implemented yet\")\n",
    "                return\n",
    "            else\n",
    "                if (norm(x1 - x1_opt)) < tol\n",
    "                    break;\n",
    "                else\n",
    "                    println(\"======\\nfailed for: x0 = [$a, $b]\")\n",
    "                    println(\"x1 found was: $(x1)\\n\")\n",
    "                end\n",
    "            end\n",
    "            \n",
    "        end\n",
    "    end\n",
    "end"
   ]
  },
  {
   "cell_type": "markdown",
   "metadata": {},
   "source": [
    "## Scan over range"
   ]
  },
  {
   "cell_type": "code",
   "execution_count": 262,
   "metadata": {},
   "outputs": [
    {
     "name": "stdout",
     "output_type": "stream",
     "text": [
      "Scanning from -10 to 10 and from -10 to 10\n",
      "\n",
      "ERROR: Himmelblau not properly implemented yet\n"
     ]
    }
   ],
   "source": [
    "x1_opt = [1.0, 1.0]\n",
    "step = 0.1\n",
    "tol = 1e-6\n",
    "test_range(himmelblau, step, tol)"
   ]
  },
  {
   "cell_type": "markdown",
   "metadata": {},
   "source": [
    "# Try different optimization test functions"
   ]
  },
  {
   "cell_type": "code",
   "execution_count": 263,
   "metadata": {},
   "outputs": [
    {
     "data": {
      "text/plain": [
       "([3.0, 2.0], 1.0395264331275901e-15, 34)"
      ]
     },
     "execution_count": 263,
     "metadata": {},
     "output_type": "execute_result"
    }
   ],
   "source": [
    "lbfgs!(himmelblau, x0, 100, 2, 1e-6, 0)"
   ]
  },
  {
   "cell_type": "code",
   "execution_count": 264,
   "metadata": {},
   "outputs": [
    {
     "data": {
      "text/plain": [
       "([1, 3], 0, 0)"
      ]
     },
     "execution_count": 264,
     "metadata": {},
     "output_type": "execute_result"
    }
   ],
   "source": [
    "lbfgs!(booth, x0, 100, 2, 1e-6, 0)"
   ]
  },
  {
   "cell_type": "code",
   "execution_count": 265,
   "metadata": {},
   "outputs": [
    {
     "data": {
      "text/plain": [
       "([-1.8274e-8, -3.65543e-9], 5.10702591327572e-15, 45)"
      ]
     },
     "execution_count": 265,
     "metadata": {},
     "output_type": "execute_result"
    }
   ],
   "source": [
    "x0 = [50, -50]\n",
    "lbfgs!(bohachevsky1, x0, 100, 2, 1e-6, 0)"
   ]
  },
  {
   "cell_type": "markdown",
   "metadata": {},
   "source": [
    "# Timing"
   ]
  },
  {
   "cell_type": "code",
   "execution_count": null,
   "metadata": {},
   "outputs": [
    {
     "name": "stdout",
     "output_type": "stream",
     "text": [
      "\n",
      "Time elapsed for 1000 evaluations of rosenbrock: 1.4275954839999971\n"
     ]
    }
   ],
   "source": [
    "maxIt = 100\n",
    "m = 2\n",
    "tol = 1e-6\n",
    "verbose = 0\n",
    "range = 1000\n",
    "funs = [rosenbrock, himmelblau, booth, bohachevsky1]\n",
    "\n",
    "for fun in funs\n",
    "    t = 0.0\n",
    "    \n",
    "    for i in 1:range\n",
    "        x0 = [rand(-1:0.1:1), rand(-1:0.1:1)]\n",
    "        t += @elapsed lbfgs!(fun, x0, maxIt, m, tol, verbose)\n",
    "    end\n",
    "    \n",
    "    println(\"\\nTime elapsed for $(range) evaluations of $(fun): $t\")\n",
    "end"
   ]
  }
 ],
 "metadata": {
  "kernelspec": {
   "display_name": "Julia 0.6.2",
   "language": "julia",
   "name": "julia-0.6"
  },
  "language_info": {
   "file_extension": ".jl",
   "mimetype": "application/julia",
   "name": "julia",
   "version": "0.6.2"
  }
 },
 "nbformat": 4,
 "nbformat_minor": 2
}
