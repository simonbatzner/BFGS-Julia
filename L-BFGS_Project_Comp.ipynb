{
 "cells": [
  {
   "cell_type": "markdown",
   "metadata": {},
   "source": [
    "# <div style=\"text-align: center\">18.335/6.337 Final Project - The L-BFGS algorithm</div>\n",
    "##  <div style=\"text-align: center\">Comparison to Optim.jl (using Strong Wolfe Line-Search in our implementation)</div>\n",
    "### <div style=\"text-align: center\">Created by Yusu Liu and Simon Batzner</div>"
   ]
  },
  {
   "cell_type": "code",
   "execution_count": 142,
   "metadata": {},
   "outputs": [],
   "source": [
    "using Optim, LineSearches"
   ]
  },
  {
   "cell_type": "code",
   "execution_count": 143,
   "metadata": {},
   "outputs": [
    {
     "data": {
      "text/plain": [
       "booth (generic function with 1 method)"
      ]
     },
     "execution_count": 143,
     "metadata": {},
     "output_type": "execute_result"
    }
   ],
   "source": [
    "# initial guess\n",
    "x0 = [0.75, 2.0]\n",
    "\n",
    "rosenbrock(x) = (1-x[1])^2 + 100*(x[2]-x[1]^2)^2\n",
    "himmelblau(x) =(x[1]^2+x[2]-11)^2+(x[1]+x[2]^2-7)^2\n",
    "booth(x) =(x[1]+2*x[2]-7)^2+(2*x[1]+x[2]-5)^2"
   ]
  },
  {
   "cell_type": "markdown",
   "metadata": {},
   "source": [
    "## L-BFGS w/ Backtraing Line Search"
   ]
  },
  {
   "cell_type": "code",
   "execution_count": 116,
   "metadata": {},
   "outputs": [
    {
     "data": {
      "text/plain": [
       "Results of Optimization Algorithm\n",
       " * Algorithm: L-BFGS\n",
       " * Starting Point: [0.75,2.0]\n",
       " * Minimizer: [0.9999999921779434,0.9999999843428273]\n",
       " * Minimum: 6.120162e-17\n",
       " * Iterations: 28\n",
       " * Convergence: true\n",
       "   * |x - x'| < 1.0e-32: false \n",
       "     |x - x'| = 3.86e-08 \n",
       "   * |f(x) - f(x')| / |f(x)| < 1.0e-32: false\n",
       "     |f(x) - f(x')| / |f(x)| = 1.65e+01 \n",
       "   * |g(x)| < 1.0e-08: true \n",
       "     |g(x)| = 4.25e-09 \n",
       "   * Stopped by an increasing objective: false\n",
       "   * Reached Maximum Number of Iterations: false\n",
       " * Objective Calls: 41\n",
       " * Gradient Calls: 29"
      ]
     },
     "execution_count": 116,
     "metadata": {},
     "output_type": "execute_result"
    }
   ],
   "source": [
    "result=optimize(rosenbrock, x0, LBFGS(linesearch = LineSearches.BackTracking()),Optim.Options(extended_trace=true, show_every=0, store_trace = true, show_trace = false))\n",
    "\n"
   ]
  },
  {
   "cell_type": "code",
   "execution_count": 117,
   "metadata": {},
   "outputs": [
    {
     "name": "stdout",
     "output_type": "stream",
     "text": [
      "Average number of iterations for rosenbrock averaged over 1000 iterations: 23.791\n",
      "Average number of iterations for himmelblau averaged over 1000 iterations: 10.595\n",
      "Average number of iterations for booth averaged over 1000 iterations: 6.315\n"
     ]
    }
   ],
   "source": [
    "n_x0 = 1000\n",
    "funs = [rosenbrock, himmelblau, booth]\n",
    "\n",
    "for fun in funs\n",
    "    k_tot = 0 \n",
    "    for i = 1:n_x0\n",
    "        x0 = rand(2); \n",
    "        result=optimize(fun, x0, LBFGS(linesearch = LineSearches.BackTracking()),Optim.Options(extended_trace=true,show_every=0,store_trace = true,show_trace = false))\n",
    "        k_tot += result.iterations\n",
    "    end\n",
    "    println(\"Average number of iterations for $(fun) averaged over $(n_x0) iterations: $(k_tot/n_x0)\")\n",
    "end"
   ]
  },
  {
   "cell_type": "markdown",
   "metadata": {},
   "source": [
    "## Memory\n"
   ]
  },
  {
   "cell_type": "code",
   "execution_count": 118,
   "metadata": {},
   "outputs": [
    {
     "name": "stdout",
     "output_type": "stream",
     "text": [
      "\n",
      "=========================================================\n",
      "Results: \n",
      "=========================================================\n",
      "Average memory in [kB] allocated for rosenbrock, averaged over 1000 iterations: 69.687776\n",
      "Average memory in [kB] allocated for himmelblau, averaged over 1000 iterations: 27.801856\n",
      "Average memory in [kB] allocated for booth, averaged over 1000 iterations: 15.950832\n"
     ]
    }
   ],
   "source": [
    "funs = [rosenbrock, himmelblau, booth]\n",
    "n_x0 = 1000\n",
    "println(\"\\n=========================================================\\nResults: \\n=========================================================\")\n",
    "\n",
    "# compare different test functions\n",
    "for fun in funs\n",
    "    mem_tot = 0 \n",
    "\n",
    "    for i = 1:n_x0\n",
    "        x0 = rand(2); \n",
    "        mem = @allocated optimize(fun, x0, LBFGS(linesearch = LineSearches.BackTracking()),Optim.Options(extended_trace=true,show_every=0,store_trace = true,show_trace = false))\n",
    "        mem_tot += mem\n",
    "    end\n",
    "\n",
    "    println(\"Average memory in [kB] allocated for $(fun), averaged over $(n_x0) iterations: $(mem_tot/(n_x0*1000))\")\n",
    "end"
   ]
  },
  {
   "cell_type": "markdown",
   "metadata": {},
   "source": [
    "## L-BFGS w/ StrongWolfe Line Search"
   ]
  },
  {
   "cell_type": "code",
   "execution_count": 119,
   "metadata": {},
   "outputs": [
    {
     "data": {
      "text/plain": [
       "Results of Optimization Algorithm\n",
       " * Algorithm: L-BFGS\n",
       " * Starting Point: [0.6118903554637458,0.5598463153088149]\n",
       " * Minimizer: [0.9999999926686656,0.9999999853371305]\n",
       " * Minimum: 5.374847e-17\n",
       " * Iterations: 20\n",
       " * Convergence: true\n",
       "   * |x - x'| < 1.0e-32: false \n",
       "     |x - x'| = 6.76e-10 \n",
       "   * |f(x) - f(x')| / |f(x)| < 1.0e-32: false\n",
       "     |f(x) - f(x')| / |f(x)| = 1.05e-01 \n",
       "   * |g(x)| < 1.0e-08: true \n",
       "     |g(x)| = 8.50e-11 \n",
       "   * Stopped by an increasing objective: false\n",
       "   * Reached Maximum Number of Iterations: false\n",
       " * Objective Calls: 33\n",
       " * Gradient Calls: 28"
      ]
     },
     "execution_count": 119,
     "metadata": {},
     "output_type": "execute_result"
    }
   ],
   "source": [
    "result=optimize(rosenbrock, x0, LBFGS(linesearch = LineSearches.StrongWolfe()),Optim.Options(extended_trace=true,show_every=0,store_trace = true,show_trace = false))"
   ]
  },
  {
   "cell_type": "code",
   "execution_count": 120,
   "metadata": {},
   "outputs": [
    {
     "name": "stdout",
     "output_type": "stream",
     "text": [
      "Average number of iterations for rosenbrock averaged over 1000 iterations: 21.48\n",
      "Average number of iterations for himmelblau averaged over 1000 iterations: 9.795\n",
      "Average number of iterations for booth averaged over 1000 iterations: 3.0\n"
     ]
    }
   ],
   "source": [
    "n_x0 = 1000\n",
    "funs = [rosenbrock, himmelblau, booth]\n",
    "\n",
    "for fun in funs\n",
    "    k_tot = 0 \n",
    "    for i = 1:n_x0\n",
    "        x0 = rand(2); \n",
    "        result=optimize(fun, x0, LBFGS(linesearch = LineSearches.StrongWolfe()),Optim.Options(extended_trace=true,show_every=0,store_trace = true,show_trace = false))\n",
    "        k_tot += result.iterations\n",
    "    end\n",
    "    println(\"Average number of iterations for $(fun) averaged over $(n_x0) iterations: $(k_tot/n_x0)\")\n",
    "end"
   ]
  },
  {
   "cell_type": "markdown",
   "metadata": {},
   "source": [
    "## Memory"
   ]
  },
  {
   "cell_type": "code",
   "execution_count": 121,
   "metadata": {},
   "outputs": [
    {
     "name": "stdout",
     "output_type": "stream",
     "text": [
      "\n",
      "=========================================================\n",
      "Results: \n",
      "=========================================================\n",
      "Average memory in [kB] allocated for rosenbrock, averaged over 1000 iterations: 66.977488\n",
      "Average memory in [kB] allocated for himmelblau, averaged over 1000 iterations: 27.209696\n",
      "Average memory in [kB] allocated for booth, averaged over 1000 iterations: 9.472\n"
     ]
    }
   ],
   "source": [
    "funs = [rosenbrock, himmelblau, booth]\n",
    "n_x0 = 1000\n",
    "println(\"\\n=========================================================\\nResults: \\n=========================================================\")\n",
    "\n",
    "# compare different test functions\n",
    "for fun in funs\n",
    "    mem_tot = 0 \n",
    "\n",
    "    for i = 1:n_x0\n",
    "        x0 = rand(2); \n",
    "        mem = @allocated optimize(fun, x0, LBFGS(linesearch = LineSearches.StrongWolfe()),Optim.Options(extended_trace=true,show_every=0,store_trace = true,show_trace = false))\n",
    "        mem_tot += mem\n",
    "    end\n",
    "\n",
    "    println(\"Average memory in [kB] allocated for $(fun), averaged over $(n_x0) iterations: $(mem_tot/(n_x0*1000))\")\n",
    "end"
   ]
  },
  {
   "cell_type": "code",
   "execution_count": 122,
   "metadata": {},
   "outputs": [],
   "source": [
    "result.trace;"
   ]
  },
  {
   "cell_type": "markdown",
   "metadata": {},
   "source": [
    "## L-BFGS w/ HagerZhang Line Search"
   ]
  },
  {
   "cell_type": "code",
   "execution_count": 123,
   "metadata": {},
   "outputs": [
    {
     "data": {
      "text/plain": [
       "Results of Optimization Algorithm\n",
       " * Algorithm: L-BFGS\n",
       " * Starting Point: [0.3944153465908793,0.8986358382403015]\n",
       " * Minimizer: [0.999999992665189,0.9999999853304142]\n",
       " * Minimum: 5.379945e-17\n",
       " * Iterations: 15\n",
       " * Convergence: true\n",
       "   * |x - x'| < 1.0e-32: false \n",
       "     |x - x'| = 1.08e-08 \n",
       "   * |f(x) - f(x')| / |f(x)| < 1.0e-32: false\n",
       "     |f(x) - f(x')| / |f(x)| = 5.43e+00 \n",
       "   * |g(x)| < 1.0e-08: true \n",
       "     |g(x)| = 1.67e-11 \n",
       "   * Stopped by an increasing objective: false\n",
       "   * Reached Maximum Number of Iterations: false\n",
       " * Objective Calls: 42\n",
       " * Gradient Calls: 42"
      ]
     },
     "execution_count": 123,
     "metadata": {},
     "output_type": "execute_result"
    }
   ],
   "source": [
    "result=optimize(rosenbrock, x0, LBFGS(linesearch = LineSearches.HagerZhang()),Optim.Options(extended_trace=true,show_every=0,store_trace = true,show_trace = false))"
   ]
  },
  {
   "cell_type": "code",
   "execution_count": 124,
   "metadata": {},
   "outputs": [
    {
     "name": "stdout",
     "output_type": "stream",
     "text": [
      "Average number of iterations for rosenbrock averaged over 1000 iterations: 15.675\n",
      "Average number of iterations for himmelblau averaged over 1000 iterations: 8.478\n",
      "Average number of iterations for booth averaged over 1000 iterations: 2.015\n"
     ]
    }
   ],
   "source": [
    "funs = [rosenbrock, himmelblau, booth]\n",
    "\n",
    "for fun in funs\n",
    "    k_tot = 0 \n",
    "    for i = 1:n_x0\n",
    "        x0 = rand(2); \n",
    "        result=optimize(fun, x0, LBFGS(linesearch = LineSearches.HagerZhang()),Optim.Options(extended_trace=true,show_every=0,store_trace = true,show_trace = false))\n",
    "        k_tot += result.iterations\n",
    "    end\n",
    "    println(\"Average number of iterations for $(fun) averaged over $(n_x0) iterations: $(k_tot/n_x0)\")\n",
    "end"
   ]
  },
  {
   "cell_type": "code",
   "execution_count": 125,
   "metadata": {},
   "outputs": [],
   "source": [
    "result.trace; "
   ]
  },
  {
   "cell_type": "markdown",
   "metadata": {},
   "source": [
    "## Memory"
   ]
  },
  {
   "cell_type": "code",
   "execution_count": 126,
   "metadata": {},
   "outputs": [
    {
     "name": "stdout",
     "output_type": "stream",
     "text": [
      "\n",
      "=========================================================\n",
      "Results: \n",
      "=========================================================\n",
      "Average memory in [kB] allocated for rosenbrock, averaged over 1000 iterations: 59.150128\n",
      "Average memory in [kB] allocated for himmelblau, averaged over 1000 iterations: 32.080544\n",
      "Average memory in [kB] allocated for booth, averaged over 1000 iterations: 9.320976\n"
     ]
    }
   ],
   "source": [
    "funs = [rosenbrock, himmelblau, booth]\n",
    "n_x0 = 1000\n",
    "println(\"\\n=========================================================\\nResults: \\n=========================================================\")\n",
    "\n",
    "# compare different test functions\n",
    "for fun in funs\n",
    "    mem_tot = 0 \n",
    "\n",
    "    for i = 1:n_x0\n",
    "        x0 = rand(2); \n",
    "        mem = @allocated optimize(fun, x0, LBFGS(linesearch = LineSearches.HagerZhang()),Optim.Options(extended_trace=true,show_every=0,store_trace = true,show_trace = false))\n",
    "        mem_tot += mem\n",
    "    end\n",
    "\n",
    "    println(\"Average memory in [kB] allocated for $(fun), averaged over $(n_x0) iterations: $(mem_tot/(n_x0*1000))\")\n",
    "end"
   ]
  },
  {
   "cell_type": "markdown",
   "metadata": {},
   "source": [
    "## L-BFGS w/ MoreThuente Line Search"
   ]
  },
  {
   "cell_type": "code",
   "execution_count": 127,
   "metadata": {},
   "outputs": [
    {
     "data": {
      "text/plain": [
       "Results of Optimization Algorithm\n",
       " * Algorithm: L-BFGS\n",
       " * Starting Point: [0.6661870353588346,0.76857670591432]\n",
       " * Minimizer: [0.9999999926492348,0.9999999852962056]\n",
       " * Minimum: 5.403426e-17\n",
       " * Iterations: 19\n",
       " * Convergence: true\n",
       "   * |x - x'| < 1.0e-32: false \n",
       "     |x - x'| = 2.82e-09 \n",
       "   * |f(x) - f(x')| / |f(x)| < 1.0e-32: false\n",
       "     |f(x) - f(x')| / |f(x)| = 9.73e-02 \n",
       "   * |g(x)| < 1.0e-08: true \n",
       "     |g(x)| = 8.72e-10 \n",
       "   * Stopped by an increasing objective: false\n",
       "   * Reached Maximum Number of Iterations: false\n",
       " * Objective Calls: 23\n",
       " * Gradient Calls: 23"
      ]
     },
     "execution_count": 127,
     "metadata": {},
     "output_type": "execute_result"
    }
   ],
   "source": [
    "result=optimize(rosenbrock, x0, LBFGS(linesearch = LineSearches.MoreThuente()),Optim.Options(extended_trace=true,show_every=0,store_trace = true,show_trace = false)) "
   ]
  },
  {
   "cell_type": "code",
   "execution_count": 128,
   "metadata": {},
   "outputs": [
    {
     "name": "stdout",
     "output_type": "stream",
     "text": [
      "Average number of iterations for rosenbrock averaged over 1000 iterations: 21.545\n",
      "Average number of iterations for himmelblau averaged over 1000 iterations: 9.9\n",
      "Average number of iterations for booth averaged over 1000 iterations: 3.0\n"
     ]
    }
   ],
   "source": [
    "funs = [rosenbrock, himmelblau, booth]\n",
    "\n",
    "for fun in funs\n",
    "    k_tot = 0 \n",
    "    for i = 1:n_x0\n",
    "        x0 = rand(2); \n",
    "        result=optimize(fun, x0, LBFGS(linesearch = LineSearches.MoreThuente()),Optim.Options(extended_trace=true,show_every=0,store_trace = true,show_trace = false)) \n",
    "        k_tot += result.iterations\n",
    "    end\n",
    "    println(\"Average number of iterations for $(fun) averaged over $(n_x0) iterations: $(k_tot/n_x0)\")\n",
    "end"
   ]
  },
  {
   "cell_type": "markdown",
   "metadata": {},
   "source": [
    "## Memory"
   ]
  },
  {
   "cell_type": "code",
   "execution_count": 129,
   "metadata": {},
   "outputs": [
    {
     "name": "stdout",
     "output_type": "stream",
     "text": [
      "\n",
      "=========================================================\n",
      "Results: \n",
      "=========================================================\n"
     ]
    },
    {
     "ename": "LoadError",
     "evalue": "\u001b[91msyntax: missing comma or ) in argument list\u001b[39m",
     "output_type": "error",
     "traceback": [
      "\u001b[91msyntax: missing comma or ) in argument list\u001b[39m",
      "",
      "Stacktrace:",
      " [1] \u001b[1minclude_string\u001b[22m\u001b[22m\u001b[1m(\u001b[22m\u001b[22m::String, ::String\u001b[1m)\u001b[22m\u001b[22m at \u001b[1m./loading.jl:522\u001b[22m\u001b[22m"
     ]
    }
   ],
   "source": [
    "funs = [rosenbrock, himmelblau, booth]\n",
    "n_x0 = 1000\n",
    "println(\"\\n=========================================================\\nResults: \\n=========================================================\")\n",
    "\n",
    "# compare different test functions\n",
    "for fun in funs\n",
    "    mem_tot = 0 \n",
    "\n",
    "    for i = 1:n_x0\n",
    "        x0 = rand(2); \n",
    "        mem = @allocated optimize(fun, x0, LBFGS(linesearch = LineSearches.MoreThuente()),Optim.Options(extended_trace=true,show_every=0,store_trace = true,show_trace\n",
    "        mem_tot += mem\n",
    "    end\n",
    "\n",
    "    println(\"Average memory in [kB] allocated for $(fun), averaged over $(n_x0) iterations: $(mem_tot/(n_x0*1000))\")\n",
    "end"
   ]
  },
  {
   "cell_type": "code",
   "execution_count": 130,
   "metadata": {},
   "outputs": [],
   "source": [
    "result.trace; "
   ]
  },
  {
   "cell_type": "markdown",
   "metadata": {},
   "source": [
    "## Gradient Descent"
   ]
  },
  {
   "cell_type": "code",
   "execution_count": 131,
   "metadata": {},
   "outputs": [
    {
     "data": {
      "text/plain": [
       "Results of Optimization Algorithm\n",
       " * Algorithm: Gradient Descent\n",
       " * Starting Point: [0.922215519297884,0.3831174506785944]\n",
       " * Minimizer: [0.9280214348768906,0.8607748514707677]\n",
       " * Minimum: 5.201068e-03\n",
       " * Iterations: 1000\n",
       " * Convergence: false\n",
       "   * |x - x'| < 1.0e-32: false \n",
       "     |x - x'| = 2.03e-04 \n",
       "   * |f(x) - f(x')| / |f(x)| < 1.0e-32: false\n",
       "     |f(x) - f(x')| / |f(x)| = 2.04e-03 \n",
       "   * |g(x)| < 1.0e-08: false \n",
       "     |g(x)| = 8.98e-02 \n",
       "   * Stopped by an increasing objective: false\n",
       "   * Reached Maximum Number of Iterations: true\n",
       " * Objective Calls: 2505\n",
       " * Gradient Calls: 2505"
      ]
     },
     "execution_count": 131,
     "metadata": {},
     "output_type": "execute_result"
    }
   ],
   "source": [
    "result=optimize(rosenbrock, x0, GradientDescent(),Optim.Options(extended_trace=true,show_every=0,store_trace = true,show_trace = false)) "
   ]
  },
  {
   "cell_type": "code",
   "execution_count": 132,
   "metadata": {},
   "outputs": [
    {
     "name": "stdout",
     "output_type": "stream",
     "text": [
      "Average number of iterations for rosenbrock averaged over 1000 iterations: 997.945\n",
      "Average number of iterations for himmelblau averaged over 1000 iterations: 25.238\n",
      "Average number of iterations for booth averaged over 1000 iterations: 13.541\n"
     ]
    }
   ],
   "source": [
    "funs = [rosenbrock, himmelblau, booth]\n",
    "\n",
    "for fun in funs\n",
    "    k_tot = 0 \n",
    "    for i = 1:n_x0\n",
    "        x0 = rand(2); \n",
    "        result=optimize(fun, x0, GradientDescent(),Optim.Options(extended_trace=true,show_every=0,store_trace = true,show_trace = false)) \n",
    "        k_tot += result.iterations\n",
    "    end\n",
    "    println(\"Average number of iterations for $(fun) averaged over $(n_x0) iterations: $(k_tot/n_x0)\")\n",
    "end"
   ]
  },
  {
   "cell_type": "code",
   "execution_count": 133,
   "metadata": {},
   "outputs": [],
   "source": [
    "result.trace; "
   ]
  },
  {
   "cell_type": "markdown",
   "metadata": {},
   "source": [
    "## Memory"
   ]
  },
  {
   "cell_type": "code",
   "execution_count": 134,
   "metadata": {},
   "outputs": [
    {
     "name": "stdout",
     "output_type": "stream",
     "text": [
      "\n",
      "=========================================================\n",
      "Results: \n",
      "=========================================================\n",
      "Average memory in [kB] allocated for rosenbrock, averaged over 1000 iterations: 1842.664192\n",
      "Average memory in [kB] allocated for himmelblau, averaged over 1000 iterations: 54.3328\n",
      "Average memory in [kB] allocated for booth, averaged over 1000 iterations: 29.463808\n"
     ]
    }
   ],
   "source": [
    "funs = [rosenbrock, himmelblau, booth]\n",
    "n_x0 = 1000\n",
    "println(\"\\n=========================================================\\nResults: \\n=========================================================\")\n",
    "\n",
    "# compare different test functions\n",
    "for fun in funs\n",
    "    mem_tot = 0 \n",
    "\n",
    "    for i = 1:n_x0\n",
    "        x0 = rand(2); \n",
    "        mem = @allocated optimize(fun, x0, GradientDescent(),Optim.Options(extended_trace=true,show_every=0,store_trace = true,show_trace = false)) \n",
    "        mem_tot += mem\n",
    "    end\n",
    "\n",
    "    println(\"Average memory in [kB] allocated for $(fun), averaged over $(n_x0) iterations: $(mem_tot/(n_x0*1000))\")\n",
    "end"
   ]
  },
  {
   "cell_type": "markdown",
   "metadata": {},
   "source": [
    "## Newton's Method"
   ]
  },
  {
   "cell_type": "code",
   "execution_count": 149,
   "metadata": {},
   "outputs": [
    {
     "data": {
      "text/plain": [
       "Results of Optimization Algorithm\n",
       " * Algorithm: Newton's Method\n",
       " * Starting Point: [0.75,2.0]\n",
       " * Minimizer: [0.9999999926664248,0.999999985332855]\n",
       " * Minimum: 5.378133e-17\n",
       " * Iterations: 14\n",
       " * Convergence: true\n",
       "   * |x - x'| < 1.0e-32: false \n",
       "     |x - x'| = 8.95e-08 \n",
       "   * |f(x) - f(x')| / |f(x)| < 1.0e-32: false\n",
       "     |f(x) - f(x')| / |f(x)| = 2.89e+02 \n",
       "   * |g(x)| < 1.0e-08: true \n",
       "     |g(x)| = 1.84e-12 \n",
       "   * Stopped by an increasing objective: false\n",
       "   * Reached Maximum Number of Iterations: false\n",
       " * Objective Calls: 42\n",
       " * Gradient Calls: 42\n",
       " * Hessian Calls: 14"
      ]
     },
     "execution_count": 149,
     "metadata": {},
     "output_type": "execute_result"
    }
   ],
   "source": [
    "x0 = [0.75, 2.0]\n",
    "result=optimize(rosenbrock, x0, Newton(),Optim.Options(extended_trace=true,show_every=0,store_trace = true)) "
   ]
  },
  {
   "cell_type": "code",
   "execution_count": 147,
   "metadata": {},
   "outputs": [
    {
     "name": "stdout",
     "output_type": "stream",
     "text": [
      "Average number of iterations for rosenbrock averaged over 1000 iterations: 10.117\n",
      "Average number of iterations for himmelblau averaged over 1000 iterations: 6.746\n",
      "Average number of iterations for booth averaged over 1000 iterations: 2.0\n"
     ]
    }
   ],
   "source": [
    "funs = [rosenbrock, himmelblau, booth]\n",
    "\n",
    "for fun in funs\n",
    "    k_tot = 0 \n",
    "    for i = 1:n_x0\n",
    "        x0 = rand(2); \n",
    "        result=optimize(fun, x0, Newton(),Optim.Options(extended_trace=true,show_every=0,store_trace = true))  \n",
    "        k_tot += result.iterations\n",
    "    end\n",
    "    println(\"Average number of iterations for $(fun) averaged over $(n_x0) iterations: $(k_tot/n_x0)\")\n",
    "end"
   ]
  },
  {
   "cell_type": "code",
   "execution_count": 150,
   "metadata": {},
   "outputs": [
    {
     "data": {
      "text/plain": [
       "15-element Array{Optim.OptimizationState{Optim.Newton{LineSearches.InitialStatic{Float64},LineSearches.HagerZhang{Float64}}},1}:\n",
       "      0     2.067031e+02     4.317500e+02\n",
       " * Current step size: 1.0\n",
       " * g(x): [-431.75, 287.5]\n",
       " * h(x): [-123.0 -300.0; -300.0 200.0]\n",
       " * x: [0.75, 2.0]\n",
       "                       \n",
       "      1     1.014459e+02     3.921236e+02\n",
       " * Current step size: 0.0317928\n",
       " * g(x): [-392.124, 201.44]\n",
       " * h(x): [356.765 -389.267; -389.267 200.0]\n",
       " * x: [0.973168, 1.95426]\n",
       "  \n",
       "      2     3.295035e+01     2.800897e+02\n",
       " * Current step size: 0.113514\n",
       " * g(x): [-280.09, 114.718]\n",
       " * h(x): [968.584 -489.085; -489.085 200.0]\n",
       " * x: [1.22271, 2.06862]\n",
       "    \n",
       "      3     6.049738e+00     1.370255e+02\n",
       " * Current step size: 0.346583\n",
       " * g(x): [-137.026, 48.4613]\n",
       " * h(x): [1523.84 -568.992; -568.992 200.0]\n",
       " * x: [1.42248, 2.26575]\n",
       "   \n",
       "      4     3.394684e-01     1.013853e+01\n",
       " * Current step size: 0.768397\n",
       " * g(x): [-10.1385, 3.61886]\n",
       " * h(x): [1926.27 -621.532; -621.532 200.0]\n",
       " * x: [1.55383, 2.43248]\n",
       "   \n",
       "      5     1.849910e-01     7.053136e+00\n",
       " * Current step size: 0.686685\n",
       " * g(x): [7.05314, -2.19709]\n",
       " * h(x): [1610.08 -566.336; -566.336 200.0]\n",
       " * x: [1.41584, 1.99362]\n",
       "   \n",
       "      6     1.102814e-01     9.042811e+00\n",
       " * Current step size: 0.978014\n",
       " * g(x): [9.04281, -3.2847]\n",
       " * h(x): [1337.03 -515.453; -515.453 200.0]\n",
       " * x: [1.28863, 1.64415]\n",
       "    \n",
       "      7     3.674422e-02     1.394564e+00\n",
       " * Current step size: 1.45672\n",
       " * g(x): [1.39456, -0.425685]\n",
       " * h(x): [1136.69 -476.201; -476.201 200.0]\n",
       " * x: [1.1905, 1.41517]\n",
       "    \n",
       "      8     2.253755e-02     1.842474e+00\n",
       " * Current step size: 0.33103\n",
       " * g(x): [1.84247, -0.676078]\n",
       " * h(x): [1054.5 -458.508; -458.508 200.0]\n",
       " * x: [1.14627, 1.31055]\n",
       "    \n",
       "      9     8.997702e-03     2.482109e+00\n",
       " * Current step size: 0.782005\n",
       " * g(x): [2.48211, -1.07885]\n",
       " * h(x): [933.868 -431.21; -431.21 200.0]\n",
       " * x: [1.07802, 1.15674]\n",
       "     \n",
       "     10     6.409528e-04     2.839429e-01\n",
       " * Current step size: 1.42179\n",
       " * g(x): [0.283943, -0.114487]\n",
       " * h(x): [842.174 -409.865; -409.865 200.0]\n",
       " * x: [1.02466, 1.04936]\n",
       "  \n",
       "     11     2.901765e-05     2.041791e-01\n",
       " * Current step size: 1.02316\n",
       " * g(x): [0.204179, -0.0998668]\n",
       " * h(x): [805.437 -400.808; -400.808 200.0]\n",
       " * x: [1.00202, 1.00355]\n",
       " \n",
       "     12     2.569125e-08     2.216987e-03\n",
       " * Current step size: 1.0196\n",
       " * g(x): [-0.00221699, 0.00125579]\n",
       " * h(x): [802.233 -400.059; -400.059 200.0]\n",
       " * x: [1.00015, 1.0003]\n",
       "\n",
       "     13     1.558147e-14     4.784950e-06\n",
       " * Current step size: 0.998403\n",
       " * g(x): [4.78495e-6, -2.34189e-6]\n",
       " * h(x): [802.0 -400.0; -400.0 200.0]\n",
       " * x: [1.0, 1.0]\n",
       "           \n",
       "     14     5.378133e-17     1.837083e-12\n",
       " * Current step size: 1.0\n",
       " * g(x): [-1.83708e-12, 1.05471e-12]\n",
       " * h(x): [28.3196 -400.0; -14.1245 0.706226]\n",
       " * x: [1.0, 1.0]\n",
       "       "
      ]
     },
     "execution_count": 150,
     "metadata": {},
     "output_type": "execute_result"
    }
   ],
   "source": [
    "result.trace"
   ]
  },
  {
   "cell_type": "markdown",
   "metadata": {},
   "source": [
    "## Memory"
   ]
  },
  {
   "cell_type": "code",
   "execution_count": 138,
   "metadata": {},
   "outputs": [
    {
     "name": "stdout",
     "output_type": "stream",
     "text": [
      "\n",
      "=========================================================\n",
      "Results: \n",
      "=========================================================\n",
      "Average memory in [kB] allocated for rosenbrock, averaged over 1000 iterations: 40.555008\n",
      "Average memory in [kB] allocated for himmelblau, averaged over 1000 iterations: 27.939088\n",
      "Average memory in [kB] allocated for booth, averaged over 1000 iterations: 10.604352\n"
     ]
    }
   ],
   "source": [
    "funs = [rosenbrock, himmelblau, booth]\n",
    "n_x0 = 1000\n",
    "println(\"\\n=========================================================\\nResults: \\n=========================================================\")\n",
    "\n",
    "# compare different test functions\n",
    "for fun in funs\n",
    "    mem_tot = 0 \n",
    "\n",
    "    for i = 1:n_x0\n",
    "        x0 = rand(2); \n",
    "        mem = @allocated optimize(fun, x0, Newton(),Optim.Options(extended_trace=true,show_every=0,store_trace = true))\n",
    "        mem_tot += mem\n",
    "    end\n",
    "\n",
    "    println(\"Average memory in [kB] allocated for $(fun), averaged over $(n_x0) iterations: $(mem_tot/(n_x0*1000))\")\n",
    "end"
   ]
  },
  {
   "cell_type": "markdown",
   "metadata": {},
   "source": [
    "## BFGS"
   ]
  },
  {
   "cell_type": "code",
   "execution_count": 157,
   "metadata": {},
   "outputs": [
    {
     "data": {
      "text/plain": [
       "Results of Optimization Algorithm\n",
       " * Algorithm: BFGS\n",
       " * Starting Point: [0.75,2.0]\n",
       " * Minimizer: [0.9999999926292735,0.9999999852500875]\n",
       " * Minimum: 5.433477e-17\n",
       " * Iterations: 21\n",
       " * Convergence: true\n",
       "   * |x - x'| < 1.0e-32: false \n",
       "     |x - x'| = 6.13e-07 \n",
       "   * |f(x) - f(x')| / |f(x)| < 1.0e-32: false\n",
       "     |f(x) - f(x')| / |f(x)| = 2.24e+03 \n",
       "   * |g(x)| < 1.0e-08: true \n",
       "     |g(x)| = 3.31e-09 \n",
       "   * Stopped by an increasing objective: false\n",
       "   * Reached Maximum Number of Iterations: false\n",
       " * Objective Calls: 82\n",
       " * Gradient Calls: 82"
      ]
     },
     "execution_count": 157,
     "metadata": {},
     "output_type": "execute_result"
    }
   ],
   "source": [
    "x0 = [0.75, 2.0]\n",
    "result=optimize(rosenbrock, x0, BFGS(),Optim.Options(extended_trace=true,show_every=0,store_trace = true))"
   ]
  },
  {
   "cell_type": "code",
   "execution_count": 158,
   "metadata": {},
   "outputs": [],
   "source": [
    "# funs = [rosenbrock, himmelblau, booth]\n",
    "\n",
    "# for fun in funs\n",
    "#     k_tot = 0 \n",
    "#     for i = 1:n_x0\n",
    "#         x0 = rand(2); \n",
    "#         result=optimize(fun, x0, BFGS(),Optim.Options(extended_trace=true,show_every=0,store_trace = true))\n",
    "#         k_tot += result.iterations\n",
    "#     end\n",
    "#     println(\"Average number of iterations for $(fun) averaged over $(n_x0) iterations: $(k_tot/n_x0)\")\n",
    "# end"
   ]
  },
  {
   "cell_type": "code",
   "execution_count": 159,
   "metadata": {},
   "outputs": [
    {
     "data": {
      "text/plain": [
       "22-element Array{Optim.OptimizationState{Optim.BFGS{LineSearches.InitialStatic{Float64},LineSearches.HagerZhang{Float64},Optim.##64#66}},1}:\n",
       "      0     2.067031e+02     4.317500e+02\n",
       " * Current step size: 1.0\n",
       " * g(x): [-431.75, 287.5]\n",
       " * ~inv(H): [1.0 0.0; 0.0 1.0]\n",
       " * x: [0.75, 2.0]\n",
       "                                            \n",
       "      1     1.101764e+02     3.848794e+02\n",
       " * Current step size: 0.000385214\n",
       " * g(x): [-384.879, 209.923]\n",
       " * ~inv(H): [0.896497 0.539505; 0.539505 0.327388]\n",
       " * x: [0.916316, 1.88925]\n",
       "     \n",
       "      2     2.215365e+01     2.399037e+02\n",
       " * Current step size: 0.00156677\n",
       " * g(x): [-239.904, 93.9692]\n",
       " * ~inv(H): [0.0112379 0.0109186; 0.0109186 0.0117743]\n",
       " * x: [1.27948, 2.1069]\n",
       "    \n",
       "      3     1.498705e+01     2.043795e+02\n",
       " * Current step size: 0.0295871\n",
       " * g(x): [-204.379, 77.1463]\n",
       " * ~inv(H): [0.00327138 0.00397095; 0.00397095 0.00572434]\n",
       " * x: [1.32889, 2.15167]\n",
       "\n",
       "      4     1.255611e+00     5.905734e+01\n",
       " * Current step size: 0.438007\n",
       " * g(x): [-59.0573, 20.1782]\n",
       " * ~inv(H): [0.00225914 0.00297765; 0.00297765 0.00475123]\n",
       " * x: [1.48756, 2.31372]\n",
       " \n",
       "      5     2.917517e-01     2.773213e+00\n",
       " * Current step size: 0.66742\n",
       " * g(x): [-2.77321, 1.25161]\n",
       " * ~inv(H): [0.00163925 0.00228875; 0.00228875 0.00398592]\n",
       " * x: [1.5365, 2.3671]\n",
       "    \n",
       "      6     2.902404e-01     4.746384e-01\n",
       " * Current step size: 1.01931\n",
       " * g(x): [-0.38376, 0.474638]\n",
       " * ~inv(H): [0.00123688 0.00159806; 0.00159806 0.00313252]\n",
       " * x: [1.53822, 2.36848]\n",
       " \n",
       "      7     2.002700e-01     4.919916e+00\n",
       " * Current step size: 338.946\n",
       " * g(x): [4.91992, -1.3994]\n",
       " * ~inv(H): [0.289165 0.869698; 0.869698 2.61931]\n",
       " * x: [1.44201, 2.0724]\n",
       "             \n",
       "      8     1.864525e-01     6.235059e+00\n",
       " * Current step size: 0.100952\n",
       " * g(x): [6.23506, -1.89711]\n",
       " * ~inv(H): [0.15482 0.450799; 0.450799 1.31559]\n",
       " * x: [1.42125, 2.01048]\n",
       "           \n",
       "      9     1.482897e-01     9.003062e+00\n",
       " * Current step size: 0.617493\n",
       " * g(x): [9.00306, -3.06537]\n",
       " * ~inv(H): [0.132536 0.372218; 0.372218 1.04838]\n",
       " * x: [1.35327, 1.81601]\n",
       "          \n",
       "     10     1.024214e-01     8.236041e+00\n",
       " * Current step size: 1.34512\n",
       " * g(x): [8.23604, -2.98913]\n",
       " * ~inv(H): [0.124194 0.327704; 0.327704 0.871895]\n",
       " * x: [1.28299, 1.63112]\n",
       "          \n",
       "     11     9.433155e-02     1.265812e+01\n",
       " * Current step size: 5.01464\n",
       " * g(x): [-12.6581, 6.00018]\n",
       " * ~inv(H): [1.26905 2.92554; 2.92554 6.74816]\n",
       " * x: [1.06577, 1.16587]\n",
       "              \n",
       "     12     3.116399e-02     7.110203e+00\n",
       " * Current step size: 0.0345341\n",
       " * g(x): [-7.1102, 3.51903]\n",
       " * ~inv(H): [0.832155 1.88145; 1.88145 4.25511]\n",
       " * x: [1.01432, 1.04644]\n",
       "            \n",
       "     13     9.644285e-03     3.852860e+00\n",
       " * Current step size: 0.041822\n",
       " * g(x): [-3.85286, 1.94066]\n",
       " * ~inv(H): [0.122672 0.27182; 0.27182 0.603264]\n",
       " * x: [0.984871, 0.979675]\n",
       "         \n",
       "     14     2.422929e-03     1.353526e+00\n",
       " * Current step size: 0.386103\n",
       " * g(x): [-1.35353, 0.664583]\n",
       " * ~inv(H): [0.0700023 0.153709; 0.153709 0.338407]\n",
       " * x: [0.963685, 0.932012]\n",
       "     \n",
       "     15     1.933131e-03     5.434380e-01\n",
       " * Current step size: 0.809155\n",
       " * g(x): [-0.543438, 0.239548]\n",
       " * ~inv(H): [0.0478981 0.105383; 0.105383 0.232931]\n",
       " * x: [0.957695, 0.918378]\n",
       "    \n",
       "     16     3.407930e-04     1.276018e-01\n",
       " * Current step size: 30.9725\n",
       " * g(x): [0.127602, -0.0832835]\n",
       " * ~inv(H): [0.51385 0.992757; 0.992757 1.92243]\n",
       " * x: [0.982015, 0.963937]\n",
       "       \n",
       "     17     7.283876e-05     3.043334e-01\n",
       " * Current step size: 0.84957\n",
       " * g(x): [0.304333, -0.156152]\n",
       " * ~inv(H): [0.44374 0.876719; 0.876719 1.73661]\n",
       " * x: [0.996553, 0.992338]\n",
       "        \n",
       "     18     1.430031e-06     1.886023e-02\n",
       " * Current step size: 1.2529\n",
       " * g(x): [-0.0188602, 0.00831827]\n",
       " * ~inv(H): [0.486306 0.969761; 0.969761 1.93885]\n",
       " * x: [0.998879, 0.9978]\n",
       "       \n",
       "     19     3.100378e-09     1.995600e-03\n",
       " * Current step size: 0.994338\n",
       " * g(x): [0.0019956, -0.00102015]\n",
       " * ~inv(H): [0.499303 0.997443; 0.997443 1.99742]\n",
       " * x: [0.999978, 0.99995]\n",
       "    \n",
       "     20     1.216718e-13     6.110705e-06\n",
       " * Current step size: 1.04175\n",
       " * g(x): [-6.1107e-6, 2.74194e-6]\n",
       " * ~inv(H): [0.504684 1.00914; 1.00914 2.02285]\n",
       " * x: [1.0, 0.999999]\n",
       "           \n",
       "     21     5.433477e-17     3.309774e-09\n",
       " * Current step size: 0.988684\n",
       " * g(x): [3.30977e-9, -1.69191e-9]\n",
       " * ~inv(H): [0.504684 1.00914; 1.00914 2.02285]\n",
       " * x: [1.0, 1.0]\n",
       "              "
      ]
     },
     "execution_count": 159,
     "metadata": {},
     "output_type": "execute_result"
    }
   ],
   "source": [
    "result.trace"
   ]
  },
  {
   "cell_type": "markdown",
   "metadata": {},
   "source": [
    "## Memory"
   ]
  },
  {
   "cell_type": "code",
   "execution_count": 141,
   "metadata": {},
   "outputs": [
    {
     "name": "stdout",
     "output_type": "stream",
     "text": [
      "\n",
      "=========================================================\n",
      "Results: \n",
      "=========================================================\n",
      "Average memory in [kB] allocated for rosenbrock, averaged over 1000 iterations: 37.804496\n",
      "Average memory in [kB] allocated for himmelblau, averaged over 1000 iterations: 26.536656\n",
      "Average memory in [kB] allocated for booth, averaged over 1000 iterations: 7.584\n"
     ]
    }
   ],
   "source": [
    "funs = [rosenbrock, himmelblau, booth]\n",
    "n_x0 = 1000\n",
    "println(\"\\n=========================================================\\nResults: \\n=========================================================\")\n",
    "\n",
    "# compare different test functions\n",
    "for fun in funs\n",
    "    mem_tot = 0 \n",
    "\n",
    "    for i = 1:n_x0\n",
    "        x0 = rand(2); \n",
    "        mem = @allocated optimize(fun, x0, BFGS(),Optim.Options(extended_trace=true,show_every=0,store_trace = true))\n",
    "        mem_tot += mem\n",
    "    end\n",
    "\n",
    "    println(\"Average memory in [kB] allocated for $(fun), averaged over $(n_x0) iterations: $(mem_tot/(n_x0*1000))\")\n",
    "end"
   ]
  }
 ],
 "metadata": {
  "kernelspec": {
   "display_name": "Julia 0.6.2",
   "language": "julia",
   "name": "julia-0.6"
  },
  "language_info": {
   "file_extension": ".jl",
   "mimetype": "application/julia",
   "name": "julia",
   "version": "0.6.2"
  }
 },
 "nbformat": 4,
 "nbformat_minor": 2
}
