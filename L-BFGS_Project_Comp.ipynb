{
 "cells": [
  {
   "cell_type": "markdown",
   "metadata": {},
   "source": [
    "# <div style=\"text-align: center\">18.335/6.337 Final Project - The L-BFGS algorithm</div>\n",
    "##  <div style=\"text-align: center\">Comparison to Optim.jl (using Strong Wolfe Line-Search in our implementation)</div>\n",
    "### <div style=\"text-align: center\">Created by Yusu Liu and Simon Batzner</div>"
   ]
  },
  {
   "cell_type": "code",
   "execution_count": 2,
   "metadata": {},
   "outputs": [],
   "source": [
    "using Optim, LineSearches"
   ]
  },
  {
   "cell_type": "code",
   "execution_count": 61,
   "metadata": {},
   "outputs": [
    {
     "data": {
      "text/plain": [
       "easom (generic function with 1 method)"
      ]
     },
     "execution_count": 61,
     "metadata": {},
     "output_type": "execute_result"
    }
   ],
   "source": [
    "x0 = [0.75, 2.0]\n",
    "\n",
    "rosenbrock(x) = (1-x[1])^2 + 100*(x[2]-x[1]^2)^2\n",
    "himmelblau(x) =(x[1]^2+x[2]-11)^2+(x[1]+x[2]^2-7)^2\n",
    "booth(x) =(x[1]+2*x[2]-7)^2+(2*x[1]+x[2]-5)^2\n",
    "bohachevsky1(x) = x[1]^2+2*x[2]^2-0.3*cos(3*pi*x[1])-0.4*cos(4*pi*x[2])+0.7\n",
    "easom(x) =-cos(x[1])*cos(x[2])*exp(-(x[1]-pi)^2-(x[2]-pi)^2)"
   ]
  },
  {
   "cell_type": "markdown",
   "metadata": {},
   "source": [
    "## L-BFGS w/ HagerZhang Line Search"
   ]
  },
  {
   "cell_type": "code",
   "execution_count": 79,
   "metadata": {},
   "outputs": [
    {
     "data": {
      "text/plain": [
       "Results of Optimization Algorithm\n",
       " * Algorithm: L-BFGS\n",
       " * Starting Point: [0.75,2.0]\n",
       " * Minimizer: [0.9999999929078842,0.9999999858163897]\n",
       " * Minimum: 5.029814e-17\n",
       " * Iterations: 18\n",
       " * Convergence: true\n",
       "   * |x - x'| < 1.0e-32: false \n",
       "     |x - x'| = 9.62e-08 \n",
       "   * |f(x) - f(x')| / |f(x)| < 1.0e-32: false\n",
       "     |f(x) - f(x')| / |f(x)| = 2.66e+02 \n",
       "   * |g(x)| < 1.0e-08: true \n",
       "     |g(x)| = 2.35e-10 \n",
       "   * Stopped by an increasing objective: false\n",
       "   * Reached Maximum Number of Iterations: false\n",
       " * Objective Calls: 44\n",
       " * Gradient Calls: 37"
      ]
     },
     "execution_count": 79,
     "metadata": {},
     "output_type": "execute_result"
    }
   ],
   "source": [
    "result=optimize(rosenbrock, x0, LBFGS(linesearch = LineSearches.StrongWolfe()),Optim.Options(extended_trace=true,show_every=0,store_trace = true,show_trace = false))"
   ]
  },
  {
   "cell_type": "code",
   "execution_count": 81,
   "metadata": {},
   "outputs": [],
   "source": [
    "result.trace;"
   ]
  },
  {
   "cell_type": "markdown",
   "metadata": {},
   "source": [
    "## L-BFGS w/ HagerZhang Line Search"
   ]
  },
  {
   "cell_type": "code",
   "execution_count": 62,
   "metadata": {},
   "outputs": [
    {
     "data": {
      "text/plain": [
       "Results of Optimization Algorithm\n",
       " * Algorithm: L-BFGS\n",
       " * Starting Point: [0.75,2.0]\n",
       " * Minimizer: [0.9999999926663077,0.999999985332618]\n",
       " * Minimum: 5.378304e-17\n",
       " * Iterations: 17\n",
       " * Convergence: true\n",
       "   * |x - x'| < 1.0e-32: false \n",
       "     |x - x'| = 2.10e-09 \n",
       "   * |f(x) - f(x')| / |f(x)| < 1.0e-32: false\n",
       "     |f(x) - f(x')| / |f(x)| = 3.03e-01 \n",
       "   * |g(x)| < 1.0e-08: true \n",
       "     |g(x)| = 1.05e-12 \n",
       "   * Stopped by an increasing objective: false\n",
       "   * Reached Maximum Number of Iterations: false\n",
       " * Objective Calls: 48\n",
       " * Gradient Calls: 48"
      ]
     },
     "execution_count": 62,
     "metadata": {},
     "output_type": "execute_result"
    }
   ],
   "source": [
    "result=optimize(rosenbrock, x0, LBFGS(linesearch = LineSearches.HagerZhang()),Optim.Options(extended_trace=true,show_every=0,store_trace = true,show_trace = false))"
   ]
  },
  {
   "cell_type": "code",
   "execution_count": 78,
   "metadata": {},
   "outputs": [
    {
     "data": {
      "text/plain": [
       "22-element Array{Optim.OptimizationState{Optim.BFGS{LineSearches.InitialStatic{Float64},LineSearches.HagerZhang{Float64},Optim.##64#66}},1}:\n",
       "      0     2.067031e+02     4.317500e+02\n",
       " * Current step size: 1.0\n",
       " * g(x): [-431.75, 287.5]\n",
       " * ~inv(H): [1.0 0.0; 0.0 1.0]\n",
       " * x: [0.75, 2.0]\n",
       "                                            \n",
       "      1     1.101764e+02     3.848794e+02\n",
       " * Current step size: 0.000385214\n",
       " * g(x): [-384.879, 209.923]\n",
       " * ~inv(H): [0.896497 0.539505; 0.539505 0.327388]\n",
       " * x: [0.916316, 1.88925]\n",
       "     \n",
       "      2     2.215365e+01     2.399037e+02\n",
       " * Current step size: 0.00156677\n",
       " * g(x): [-239.904, 93.9692]\n",
       " * ~inv(H): [0.0112379 0.0109186; 0.0109186 0.0117743]\n",
       " * x: [1.27948, 2.1069]\n",
       "    \n",
       "      3     1.498705e+01     2.043795e+02\n",
       " * Current step size: 0.0295871\n",
       " * g(x): [-204.379, 77.1463]\n",
       " * ~inv(H): [0.00327138 0.00397095; 0.00397095 0.00572434]\n",
       " * x: [1.32889, 2.15167]\n",
       "\n",
       "      4     1.255611e+00     5.905734e+01\n",
       " * Current step size: 0.438007\n",
       " * g(x): [-59.0573, 20.1782]\n",
       " * ~inv(H): [0.00225914 0.00297765; 0.00297765 0.00475123]\n",
       " * x: [1.48756, 2.31372]\n",
       " \n",
       "      5     2.917517e-01     2.773213e+00\n",
       " * Current step size: 0.66742\n",
       " * g(x): [-2.77321, 1.25161]\n",
       " * ~inv(H): [0.00163925 0.00228875; 0.00228875 0.00398592]\n",
       " * x: [1.5365, 2.3671]\n",
       "    \n",
       "      6     2.902404e-01     4.746384e-01\n",
       " * Current step size: 1.01931\n",
       " * g(x): [-0.38376, 0.474638]\n",
       " * ~inv(H): [0.00123688 0.00159806; 0.00159806 0.00313252]\n",
       " * x: [1.53822, 2.36848]\n",
       " \n",
       "      7     2.002700e-01     4.919916e+00\n",
       " * Current step size: 338.946\n",
       " * g(x): [4.91992, -1.3994]\n",
       " * ~inv(H): [0.289165 0.869698; 0.869698 2.61931]\n",
       " * x: [1.44201, 2.0724]\n",
       "             \n",
       "      8     1.864525e-01     6.235059e+00\n",
       " * Current step size: 0.100952\n",
       " * g(x): [6.23506, -1.89711]\n",
       " * ~inv(H): [0.15482 0.450799; 0.450799 1.31559]\n",
       " * x: [1.42125, 2.01048]\n",
       "           \n",
       "      9     1.482897e-01     9.003062e+00\n",
       " * Current step size: 0.617493\n",
       " * g(x): [9.00306, -3.06537]\n",
       " * ~inv(H): [0.132536 0.372218; 0.372218 1.04838]\n",
       " * x: [1.35327, 1.81601]\n",
       "          \n",
       "     10     1.024214e-01     8.236041e+00\n",
       " * Current step size: 1.34512\n",
       " * g(x): [8.23604, -2.98913]\n",
       " * ~inv(H): [0.124194 0.327704; 0.327704 0.871895]\n",
       " * x: [1.28299, 1.63112]\n",
       "          \n",
       "     11     9.433155e-02     1.265812e+01\n",
       " * Current step size: 5.01464\n",
       " * g(x): [-12.6581, 6.00018]\n",
       " * ~inv(H): [1.26905 2.92554; 2.92554 6.74816]\n",
       " * x: [1.06577, 1.16587]\n",
       "              \n",
       "     12     3.116399e-02     7.110203e+00\n",
       " * Current step size: 0.0345341\n",
       " * g(x): [-7.1102, 3.51903]\n",
       " * ~inv(H): [0.832155 1.88145; 1.88145 4.25511]\n",
       " * x: [1.01432, 1.04644]\n",
       "            \n",
       "     13     9.644285e-03     3.852860e+00\n",
       " * Current step size: 0.041822\n",
       " * g(x): [-3.85286, 1.94066]\n",
       " * ~inv(H): [0.122672 0.27182; 0.27182 0.603264]\n",
       " * x: [0.984871, 0.979675]\n",
       "         \n",
       "     14     2.422929e-03     1.353526e+00\n",
       " * Current step size: 0.386103\n",
       " * g(x): [-1.35353, 0.664583]\n",
       " * ~inv(H): [0.0700023 0.153709; 0.153709 0.338407]\n",
       " * x: [0.963685, 0.932012]\n",
       "     \n",
       "     15     1.933131e-03     5.434380e-01\n",
       " * Current step size: 0.809155\n",
       " * g(x): [-0.543438, 0.239548]\n",
       " * ~inv(H): [0.0478981 0.105383; 0.105383 0.232931]\n",
       " * x: [0.957695, 0.918378]\n",
       "    \n",
       "     16     3.407930e-04     1.276018e-01\n",
       " * Current step size: 30.9725\n",
       " * g(x): [0.127602, -0.0832835]\n",
       " * ~inv(H): [0.51385 0.992757; 0.992757 1.92243]\n",
       " * x: [0.982015, 0.963937]\n",
       "       \n",
       "     17     7.283876e-05     3.043334e-01\n",
       " * Current step size: 0.84957\n",
       " * g(x): [0.304333, -0.156152]\n",
       " * ~inv(H): [0.44374 0.876719; 0.876719 1.73661]\n",
       " * x: [0.996553, 0.992338]\n",
       "        \n",
       "     18     1.430031e-06     1.886023e-02\n",
       " * Current step size: 1.2529\n",
       " * g(x): [-0.0188602, 0.00831827]\n",
       " * ~inv(H): [0.486306 0.969761; 0.969761 1.93885]\n",
       " * x: [0.998879, 0.9978]\n",
       "       \n",
       "     19     3.100378e-09     1.995600e-03\n",
       " * Current step size: 0.994338\n",
       " * g(x): [0.0019956, -0.00102015]\n",
       " * ~inv(H): [0.499303 0.997443; 0.997443 1.99742]\n",
       " * x: [0.999978, 0.99995]\n",
       "    \n",
       "     20     1.216718e-13     6.110705e-06\n",
       " * Current step size: 1.04175\n",
       " * g(x): [-6.1107e-6, 2.74194e-6]\n",
       " * ~inv(H): [0.504684 1.00914; 1.00914 2.02285]\n",
       " * x: [1.0, 0.999999]\n",
       "           \n",
       "     21     5.433477e-17     3.309774e-09\n",
       " * Current step size: 0.988684\n",
       " * g(x): [3.30977e-9, -1.69191e-9]\n",
       " * ~inv(H): [0.504684 1.00914; 1.00914 2.02285]\n",
       " * x: [1.0, 1.0]\n",
       "              "
      ]
     },
     "execution_count": 78,
     "metadata": {},
     "output_type": "execute_result"
    }
   ],
   "source": [
    "result.trace"
   ]
  },
  {
   "cell_type": "markdown",
   "metadata": {},
   "source": [
    "## L-BFGS w/ MoreThuente Line Search"
   ]
  },
  {
   "cell_type": "code",
   "execution_count": 64,
   "metadata": {},
   "outputs": [
    {
     "data": {
      "text/plain": [
       "Results of Optimization Algorithm\n",
       " * Algorithm: L-BFGS\n",
       " * Starting Point: [0.75,2.0]\n",
       " * Minimizer: [0.9999999926660378,0.9999999853318993]\n",
       " * Minimum: 5.378700e-17\n",
       " * Iterations: 19\n",
       " * Convergence: true\n",
       "   * |x - x'| < 1.0e-32: false \n",
       "     |x - x'| = 3.49e-08 \n",
       "   * |f(x) - f(x')| / |f(x)| < 1.0e-32: false\n",
       "     |f(x) - f(x')| / |f(x)| = 2.31e+01 \n",
       "   * |g(x)| < 1.0e-08: true \n",
       "     |g(x)| = 7.00e-11 \n",
       "   * Stopped by an increasing objective: false\n",
       "   * Reached Maximum Number of Iterations: false\n",
       " * Objective Calls: 30\n",
       " * Gradient Calls: 30"
      ]
     },
     "execution_count": 64,
     "metadata": {},
     "output_type": "execute_result"
    }
   ],
   "source": [
    "result=optimize(rosenbrock, x0, LBFGS(linesearch = LineSearches.MoreThuente()),Optim.Options(extended_trace=true,show_every=0,store_trace = true,show_trace = false)) "
   ]
  },
  {
   "cell_type": "code",
   "execution_count": 72,
   "metadata": {},
   "outputs": [],
   "source": [
    "result.trace; "
   ]
  },
  {
   "cell_type": "markdown",
   "metadata": {},
   "source": [
    "## Gradient Descent"
   ]
  },
  {
   "cell_type": "code",
   "execution_count": 66,
   "metadata": {},
   "outputs": [
    {
     "data": {
      "text/plain": [
       "Results of Optimization Algorithm\n",
       " * Algorithm: Gradient Descent\n",
       " * Starting Point: [0.75,2.0]\n",
       " * Minimizer: [1.1936417026178114,1.4257372759598808]\n",
       " * Minimum: 3.758865e-02\n",
       " * Iterations: 1000\n",
       " * Convergence: false\n",
       "   * |x - x'| < 1.0e-32: false \n",
       "     |x - x'| = 2.86e-04 \n",
       "   * |f(x) - f(x')| / |f(x)| < 1.0e-32: false\n",
       "     |f(x) - f(x')| / |f(x)| = 8.95e-04 \n",
       "   * |g(x)| < 1.0e-08: false \n",
       "     |g(x)| = 1.91e-01 \n",
       "   * Stopped by an increasing objective: false\n",
       "   * Reached Maximum Number of Iterations: true\n",
       " * Objective Calls: 2506\n",
       " * Gradient Calls: 2506"
      ]
     },
     "execution_count": 66,
     "metadata": {},
     "output_type": "execute_result"
    }
   ],
   "source": [
    "result=optimize(rosenbrock, x0, GradientDescent(),Optim.Options(extended_trace=true,show_every=0,store_trace = true,show_trace = false)) "
   ]
  },
  {
   "cell_type": "code",
   "execution_count": 73,
   "metadata": {},
   "outputs": [],
   "source": [
    "result.trace; "
   ]
  },
  {
   "cell_type": "markdown",
   "metadata": {},
   "source": [
    "## Newton's Method"
   ]
  },
  {
   "cell_type": "code",
   "execution_count": 68,
   "metadata": {},
   "outputs": [
    {
     "data": {
      "text/plain": [
       "Results of Optimization Algorithm\n",
       " * Algorithm: Newton's Method\n",
       " * Starting Point: [0.75,2.0]\n",
       " * Minimizer: [0.9999999926664248,0.999999985332855]\n",
       " * Minimum: 5.378133e-17\n",
       " * Iterations: 14\n",
       " * Convergence: true\n",
       "   * |x - x'| < 1.0e-32: false \n",
       "     |x - x'| = 8.95e-08 \n",
       "   * |f(x) - f(x')| / |f(x)| < 1.0e-32: false\n",
       "     |f(x) - f(x')| / |f(x)| = 2.89e+02 \n",
       "   * |g(x)| < 1.0e-08: true \n",
       "     |g(x)| = 1.84e-12 \n",
       "   * Stopped by an increasing objective: false\n",
       "   * Reached Maximum Number of Iterations: false\n",
       " * Objective Calls: 42\n",
       " * Gradient Calls: 42\n",
       " * Hessian Calls: 14"
      ]
     },
     "execution_count": 68,
     "metadata": {},
     "output_type": "execute_result"
    }
   ],
   "source": [
    "result=optimize(rosenbrock, x0, Newton(),Optim.Options(extended_trace=true,show_every=0,store_trace = true)) "
   ]
  },
  {
   "cell_type": "code",
   "execution_count": 74,
   "metadata": {},
   "outputs": [],
   "source": [
    "result.trace;"
   ]
  },
  {
   "cell_type": "markdown",
   "metadata": {},
   "source": [
    "## BFGS"
   ]
  },
  {
   "cell_type": "code",
   "execution_count": 70,
   "metadata": {},
   "outputs": [
    {
     "data": {
      "text/plain": [
       "Results of Optimization Algorithm\n",
       " * Algorithm: BFGS\n",
       " * Starting Point: [0.75,2.0]\n",
       " * Minimizer: [0.9999999926292735,0.9999999852500875]\n",
       " * Minimum: 5.433477e-17\n",
       " * Iterations: 21\n",
       " * Convergence: true\n",
       "   * |x - x'| < 1.0e-32: false \n",
       "     |x - x'| = 6.13e-07 \n",
       "   * |f(x) - f(x')| / |f(x)| < 1.0e-32: false\n",
       "     |f(x) - f(x')| / |f(x)| = 2.24e+03 \n",
       "   * |g(x)| < 1.0e-08: true \n",
       "     |g(x)| = 3.31e-09 \n",
       "   * Stopped by an increasing objective: false\n",
       "   * Reached Maximum Number of Iterations: false\n",
       " * Objective Calls: 82\n",
       " * Gradient Calls: 82"
      ]
     },
     "execution_count": 70,
     "metadata": {},
     "output_type": "execute_result"
    }
   ],
   "source": [
    "result=optimize(rosenbrock, x0, BFGS(),Optim.Options(extended_trace=true,show_every=0,store_trace = true))"
   ]
  },
  {
   "cell_type": "code",
   "execution_count": 75,
   "metadata": {},
   "outputs": [],
   "source": [
    "result.trace;"
   ]
  }
 ],
 "metadata": {
  "kernelspec": {
   "display_name": "Julia 0.6.2",
   "language": "julia",
   "name": "julia-0.6"
  },
  "language_info": {
   "file_extension": ".jl",
   "mimetype": "application/julia",
   "name": "julia",
   "version": "0.6.2"
  }
 },
 "nbformat": 4,
 "nbformat_minor": 2
}
