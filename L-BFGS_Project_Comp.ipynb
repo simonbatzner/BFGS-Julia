{
 "cells": [
  {
   "cell_type": "markdown",
   "metadata": {},
   "source": [
    "# <div style=\"text-align: center\">18.335/6.337 Final Project - The L-BFGS algorithm</div>\n",
    "##  <div style=\"text-align: center\">Comparison to Optim.jl (using Strong Wolfe Line-Search in our implementation)</div>\n",
    "### <div style=\"text-align: center\">Created by Yusu Liu and Simon Batzner</div>"
   ]
  },
  {
   "cell_type": "code",
   "execution_count": 114,
   "metadata": {},
   "outputs": [],
   "source": [
    "using Optim, LineSearches"
   ]
  },
  {
   "cell_type": "code",
   "execution_count": 115,
   "metadata": {},
   "outputs": [
    {
     "data": {
      "text/plain": [
       "booth (generic function with 1 method)"
      ]
     },
     "execution_count": 115,
     "metadata": {},
     "output_type": "execute_result"
    }
   ],
   "source": [
    "# initial guess\n",
    "x0 = [0.75, 2.0]\n",
    "\n",
    "rosenbrock(x) = (1-x[1])^2 + 100*(x[2]-x[1]^2)^2\n",
    "himmelblau(x) =(x[1]^2+x[2]-11)^2+(x[1]+x[2]^2-7)^2\n",
    "booth(x) =(x[1]+2*x[2]-7)^2+(2*x[1]+x[2]-5)^2"
   ]
  },
  {
   "cell_type": "markdown",
   "metadata": {},
   "source": [
    "## L-BFGS w/ Backtraing Line Search"
   ]
  },
  {
   "cell_type": "code",
   "execution_count": 116,
   "metadata": {},
   "outputs": [
    {
     "data": {
      "text/plain": [
       "Results of Optimization Algorithm\n",
       " * Algorithm: L-BFGS\n",
       " * Starting Point: [0.75,2.0]\n",
       " * Minimizer: [0.9999999921779434,0.9999999843428273]\n",
       " * Minimum: 6.120162e-17\n",
       " * Iterations: 28\n",
       " * Convergence: true\n",
       "   * |x - x'| < 1.0e-32: false \n",
       "     |x - x'| = 3.86e-08 \n",
       "   * |f(x) - f(x')| / |f(x)| < 1.0e-32: false\n",
       "     |f(x) - f(x')| / |f(x)| = 1.65e+01 \n",
       "   * |g(x)| < 1.0e-08: true \n",
       "     |g(x)| = 4.25e-09 \n",
       "   * Stopped by an increasing objective: false\n",
       "   * Reached Maximum Number of Iterations: false\n",
       " * Objective Calls: 41\n",
       " * Gradient Calls: 29"
      ]
     },
     "execution_count": 116,
     "metadata": {},
     "output_type": "execute_result"
    }
   ],
   "source": [
    "result=optimize(rosenbrock, x0, LBFGS(linesearch = LineSearches.BackTracking()),Optim.Options(extended_trace=true, show_every=0, store_trace = true, show_trace = false))\n",
    "\n"
   ]
  },
  {
   "cell_type": "code",
   "execution_count": 117,
   "metadata": {},
   "outputs": [
    {
     "name": "stdout",
     "output_type": "stream",
     "text": [
      "Average number of iterations for rosenbrock averaged over 1000 iterations: 23.791\n",
      "Average number of iterations for himmelblau averaged over 1000 iterations: 10.595\n",
      "Average number of iterations for booth averaged over 1000 iterations: 6.315\n"
     ]
    }
   ],
   "source": [
    "n_x0 = 1000\n",
    "funs = [rosenbrock, himmelblau, booth]\n",
    "\n",
    "for fun in funs\n",
    "    k_tot = 0 \n",
    "    for i = 1:n_x0\n",
    "        x0 = rand(2); \n",
    "        result=optimize(fun, x0, LBFGS(linesearch = LineSearches.BackTracking()),Optim.Options(extended_trace=true,show_every=0,store_trace = true,show_trace = false))\n",
    "        k_tot += result.iterations\n",
    "    end\n",
    "    println(\"Average number of iterations for $(fun) averaged over $(n_x0) iterations: $(k_tot/n_x0)\")\n",
    "end"
   ]
  },
  {
   "cell_type": "markdown",
   "metadata": {},
   "source": [
    "## Memory\n"
   ]
  },
  {
   "cell_type": "code",
   "execution_count": 118,
   "metadata": {},
   "outputs": [
    {
     "name": "stdout",
     "output_type": "stream",
     "text": [
      "\n",
      "=========================================================\n",
      "Results: \n",
      "=========================================================\n",
      "Average memory in [kB] allocated for rosenbrock, averaged over 1000 iterations: 69.687776\n",
      "Average memory in [kB] allocated for himmelblau, averaged over 1000 iterations: 27.801856\n",
      "Average memory in [kB] allocated for booth, averaged over 1000 iterations: 15.950832\n"
     ]
    }
   ],
   "source": [
    "funs = [rosenbrock, himmelblau, booth]\n",
    "n_x0 = 1000\n",
    "println(\"\\n=========================================================\\nResults: \\n=========================================================\")\n",
    "\n",
    "# compare different test functions\n",
    "for fun in funs\n",
    "    mem_tot = 0 \n",
    "\n",
    "    for i = 1:n_x0\n",
    "        x0 = rand(2); \n",
    "        mem = @allocated optimize(fun, x0, LBFGS(linesearch = LineSearches.BackTracking()),Optim.Options(extended_trace=true,show_every=0,store_trace = true,show_trace = false))\n",
    "        mem_tot += mem\n",
    "    end\n",
    "\n",
    "    println(\"Average memory in [kB] allocated for $(fun), averaged over $(n_x0) iterations: $(mem_tot/(n_x0*1000))\")\n",
    "end"
   ]
  },
  {
   "cell_type": "markdown",
   "metadata": {},
   "source": [
    "## L-BFGS w/ StrongWolfe Line Search"
   ]
  },
  {
   "cell_type": "code",
   "execution_count": 119,
   "metadata": {},
   "outputs": [
    {
     "data": {
      "text/plain": [
       "Results of Optimization Algorithm\n",
       " * Algorithm: L-BFGS\n",
       " * Starting Point: [0.6118903554637458,0.5598463153088149]\n",
       " * Minimizer: [0.9999999926686656,0.9999999853371305]\n",
       " * Minimum: 5.374847e-17\n",
       " * Iterations: 20\n",
       " * Convergence: true\n",
       "   * |x - x'| < 1.0e-32: false \n",
       "     |x - x'| = 6.76e-10 \n",
       "   * |f(x) - f(x')| / |f(x)| < 1.0e-32: false\n",
       "     |f(x) - f(x')| / |f(x)| = 1.05e-01 \n",
       "   * |g(x)| < 1.0e-08: true \n",
       "     |g(x)| = 8.50e-11 \n",
       "   * Stopped by an increasing objective: false\n",
       "   * Reached Maximum Number of Iterations: false\n",
       " * Objective Calls: 33\n",
       " * Gradient Calls: 28"
      ]
     },
     "execution_count": 119,
     "metadata": {},
     "output_type": "execute_result"
    }
   ],
   "source": [
    "result=optimize(rosenbrock, x0, LBFGS(linesearch = LineSearches.StrongWolfe()),Optim.Options(extended_trace=true,show_every=0,store_trace = true,show_trace = false))"
   ]
  },
  {
   "cell_type": "code",
   "execution_count": 120,
   "metadata": {},
   "outputs": [
    {
     "name": "stdout",
     "output_type": "stream",
     "text": [
      "Average number of iterations for rosenbrock averaged over 1000 iterations: 21.48\n",
      "Average number of iterations for himmelblau averaged over 1000 iterations: 9.795\n",
      "Average number of iterations for booth averaged over 1000 iterations: 3.0\n"
     ]
    }
   ],
   "source": [
    "n_x0 = 1000\n",
    "funs = [rosenbrock, himmelblau, booth]\n",
    "\n",
    "for fun in funs\n",
    "    k_tot = 0 \n",
    "    for i = 1:n_x0\n",
    "        x0 = rand(2); \n",
    "        result=optimize(fun, x0, LBFGS(linesearch = LineSearches.StrongWolfe()),Optim.Options(extended_trace=true,show_every=0,store_trace = true,show_trace = false))\n",
    "        k_tot += result.iterations\n",
    "    end\n",
    "    println(\"Average number of iterations for $(fun) averaged over $(n_x0) iterations: $(k_tot/n_x0)\")\n",
    "end"
   ]
  },
  {
   "cell_type": "markdown",
   "metadata": {},
   "source": [
    "## Memory"
   ]
  },
  {
   "cell_type": "code",
   "execution_count": 121,
   "metadata": {},
   "outputs": [
    {
     "name": "stdout",
     "output_type": "stream",
     "text": [
      "\n",
      "=========================================================\n",
      "Results: \n",
      "=========================================================\n",
      "Average memory in [kB] allocated for rosenbrock, averaged over 1000 iterations: 66.977488\n",
      "Average memory in [kB] allocated for himmelblau, averaged over 1000 iterations: 27.209696\n",
      "Average memory in [kB] allocated for booth, averaged over 1000 iterations: 9.472\n"
     ]
    }
   ],
   "source": [
    "funs = [rosenbrock, himmelblau, booth]\n",
    "n_x0 = 1000\n",
    "println(\"\\n=========================================================\\nResults: \\n=========================================================\")\n",
    "\n",
    "# compare different test functions\n",
    "for fun in funs\n",
    "    mem_tot = 0 \n",
    "\n",
    "    for i = 1:n_x0\n",
    "        x0 = rand(2); \n",
    "        mem = @allocated optimize(fun, x0, LBFGS(linesearch = LineSearches.StrongWolfe()),Optim.Options(extended_trace=true,show_every=0,store_trace = true,show_trace = false))\n",
    "        mem_tot += mem\n",
    "    end\n",
    "\n",
    "    println(\"Average memory in [kB] allocated for $(fun), averaged over $(n_x0) iterations: $(mem_tot/(n_x0*1000))\")\n",
    "end"
   ]
  },
  {
   "cell_type": "code",
   "execution_count": 122,
   "metadata": {},
   "outputs": [],
   "source": [
    "result.trace;"
   ]
  },
  {
   "cell_type": "markdown",
   "metadata": {},
   "source": [
    "## L-BFGS w/ HagerZhang Line Search"
   ]
  },
  {
   "cell_type": "code",
   "execution_count": 123,
   "metadata": {},
   "outputs": [
    {
     "data": {
      "text/plain": [
       "Results of Optimization Algorithm\n",
       " * Algorithm: L-BFGS\n",
       " * Starting Point: [0.3944153465908793,0.8986358382403015]\n",
       " * Minimizer: [0.999999992665189,0.9999999853304142]\n",
       " * Minimum: 5.379945e-17\n",
       " * Iterations: 15\n",
       " * Convergence: true\n",
       "   * |x - x'| < 1.0e-32: false \n",
       "     |x - x'| = 1.08e-08 \n",
       "   * |f(x) - f(x')| / |f(x)| < 1.0e-32: false\n",
       "     |f(x) - f(x')| / |f(x)| = 5.43e+00 \n",
       "   * |g(x)| < 1.0e-08: true \n",
       "     |g(x)| = 1.67e-11 \n",
       "   * Stopped by an increasing objective: false\n",
       "   * Reached Maximum Number of Iterations: false\n",
       " * Objective Calls: 42\n",
       " * Gradient Calls: 42"
      ]
     },
     "execution_count": 123,
     "metadata": {},
     "output_type": "execute_result"
    }
   ],
   "source": [
    "result=optimize(rosenbrock, x0, LBFGS(linesearch = LineSearches.HagerZhang()),Optim.Options(extended_trace=true,show_every=0,store_trace = true,show_trace = false))"
   ]
  },
  {
   "cell_type": "code",
   "execution_count": 124,
   "metadata": {},
   "outputs": [
    {
     "name": "stdout",
     "output_type": "stream",
     "text": [
      "Average number of iterations for rosenbrock averaged over 1000 iterations: 15.675\n",
      "Average number of iterations for himmelblau averaged over 1000 iterations: 8.478\n",
      "Average number of iterations for booth averaged over 1000 iterations: 2.015\n"
     ]
    }
   ],
   "source": [
    "funs = [rosenbrock, himmelblau, booth]\n",
    "\n",
    "for fun in funs\n",
    "    k_tot = 0 \n",
    "    for i = 1:n_x0\n",
    "        x0 = rand(2); \n",
    "        result=optimize(fun, x0, LBFGS(linesearch = LineSearches.HagerZhang()),Optim.Options(extended_trace=true,show_every=0,store_trace = true,show_trace = false))\n",
    "        k_tot += result.iterations\n",
    "    end\n",
    "    println(\"Average number of iterations for $(fun) averaged over $(n_x0) iterations: $(k_tot/n_x0)\")\n",
    "end"
   ]
  },
  {
   "cell_type": "code",
   "execution_count": 125,
   "metadata": {},
   "outputs": [],
   "source": [
    "result.trace; "
   ]
  },
  {
   "cell_type": "markdown",
   "metadata": {},
   "source": [
    "## Memory"
   ]
  },
  {
   "cell_type": "code",
   "execution_count": 126,
   "metadata": {},
   "outputs": [
    {
     "name": "stdout",
     "output_type": "stream",
     "text": [
      "\n",
      "=========================================================\n",
      "Results: \n",
      "=========================================================\n",
      "Average memory in [kB] allocated for rosenbrock, averaged over 1000 iterations: 59.150128\n",
      "Average memory in [kB] allocated for himmelblau, averaged over 1000 iterations: 32.080544\n",
      "Average memory in [kB] allocated for booth, averaged over 1000 iterations: 9.320976\n"
     ]
    }
   ],
   "source": [
    "funs = [rosenbrock, himmelblau, booth]\n",
    "n_x0 = 1000\n",
    "println(\"\\n=========================================================\\nResults: \\n=========================================================\")\n",
    "\n",
    "# compare different test functions\n",
    "for fun in funs\n",
    "    mem_tot = 0 \n",
    "\n",
    "    for i = 1:n_x0\n",
    "        x0 = rand(2); \n",
    "        mem = @allocated optimize(fun, x0, LBFGS(linesearch = LineSearches.HagerZhang()),Optim.Options(extended_trace=true,show_every=0,store_trace = true,show_trace = false))\n",
    "        mem_tot += mem\n",
    "    end\n",
    "\n",
    "    println(\"Average memory in [kB] allocated for $(fun), averaged over $(n_x0) iterations: $(mem_tot/(n_x0*1000))\")\n",
    "end"
   ]
  },
  {
   "cell_type": "markdown",
   "metadata": {},
   "source": [
    "## L-BFGS w/ MoreThuente Line Search"
   ]
  },
  {
   "cell_type": "code",
   "execution_count": 127,
   "metadata": {},
   "outputs": [
    {
     "data": {
      "text/plain": [
       "Results of Optimization Algorithm\n",
       " * Algorithm: L-BFGS\n",
       " * Starting Point: [0.6661870353588346,0.76857670591432]\n",
       " * Minimizer: [0.9999999926492348,0.9999999852962056]\n",
       " * Minimum: 5.403426e-17\n",
       " * Iterations: 19\n",
       " * Convergence: true\n",
       "   * |x - x'| < 1.0e-32: false \n",
       "     |x - x'| = 2.82e-09 \n",
       "   * |f(x) - f(x')| / |f(x)| < 1.0e-32: false\n",
       "     |f(x) - f(x')| / |f(x)| = 9.73e-02 \n",
       "   * |g(x)| < 1.0e-08: true \n",
       "     |g(x)| = 8.72e-10 \n",
       "   * Stopped by an increasing objective: false\n",
       "   * Reached Maximum Number of Iterations: false\n",
       " * Objective Calls: 23\n",
       " * Gradient Calls: 23"
      ]
     },
     "execution_count": 127,
     "metadata": {},
     "output_type": "execute_result"
    }
   ],
   "source": [
    "result=optimize(rosenbrock, x0, LBFGS(linesearch = LineSearches.MoreThuente()),Optim.Options(extended_trace=true,show_every=0,store_trace = true,show_trace = false)) "
   ]
  },
  {
   "cell_type": "code",
   "execution_count": 128,
   "metadata": {},
   "outputs": [
    {
     "name": "stdout",
     "output_type": "stream",
     "text": [
      "Average number of iterations for rosenbrock averaged over 1000 iterations: 21.545\n",
      "Average number of iterations for himmelblau averaged over 1000 iterations: 9.9\n",
      "Average number of iterations for booth averaged over 1000 iterations: 3.0\n"
     ]
    }
   ],
   "source": [
    "funs = [rosenbrock, himmelblau, booth]\n",
    "\n",
    "for fun in funs\n",
    "    k_tot = 0 \n",
    "    for i = 1:n_x0\n",
    "        x0 = rand(2); \n",
    "        result=optimize(fun, x0, LBFGS(linesearch = LineSearches.MoreThuente()),Optim.Options(extended_trace=true,show_every=0,store_trace = true,show_trace = false)) \n",
    "        k_tot += result.iterations\n",
    "    end\n",
    "    println(\"Average number of iterations for $(fun) averaged over $(n_x0) iterations: $(k_tot/n_x0)\")\n",
    "end"
   ]
  },
  {
   "cell_type": "markdown",
   "metadata": {},
   "source": [
    "## Memory"
   ]
  },
  {
   "cell_type": "code",
   "execution_count": 129,
   "metadata": {},
   "outputs": [
    {
     "name": "stdout",
     "output_type": "stream",
     "text": [
      "\n",
      "=========================================================\n",
      "Results: \n",
      "=========================================================\n"
     ]
    },
    {
     "ename": "LoadError",
     "evalue": "\u001b[91msyntax: missing comma or ) in argument list\u001b[39m",
     "output_type": "error",
     "traceback": [
      "\u001b[91msyntax: missing comma or ) in argument list\u001b[39m",
      "",
      "Stacktrace:",
      " [1] \u001b[1minclude_string\u001b[22m\u001b[22m\u001b[1m(\u001b[22m\u001b[22m::String, ::String\u001b[1m)\u001b[22m\u001b[22m at \u001b[1m./loading.jl:522\u001b[22m\u001b[22m"
     ]
    }
   ],
   "source": [
    "funs = [rosenbrock, himmelblau, booth]\n",
    "n_x0 = 1000\n",
    "println(\"\\n=========================================================\\nResults: \\n=========================================================\")\n",
    "\n",
    "# compare different test functions\n",
    "for fun in funs\n",
    "    mem_tot = 0 \n",
    "\n",
    "    for i = 1:n_x0\n",
    "        x0 = rand(2); \n",
    "        mem = @allocated optimize(fun, x0, LBFGS(linesearch = LineSearches.MoreThuente()),Optim.Options(extended_trace=true,show_every=0,store_trace = true,show_trace\n",
    "        mem_tot += mem\n",
    "    end\n",
    "\n",
    "    println(\"Average memory in [kB] allocated for $(fun), averaged over $(n_x0) iterations: $(mem_tot/(n_x0*1000))\")\n",
    "end"
   ]
  },
  {
   "cell_type": "code",
   "execution_count": 130,
   "metadata": {},
   "outputs": [],
   "source": [
    "result.trace; "
   ]
  },
  {
   "cell_type": "markdown",
   "metadata": {},
   "source": [
    "## Gradient Descent"
   ]
  },
  {
   "cell_type": "code",
   "execution_count": 131,
   "metadata": {},
   "outputs": [
    {
     "data": {
      "text/plain": [
       "Results of Optimization Algorithm\n",
       " * Algorithm: Gradient Descent\n",
       " * Starting Point: [0.922215519297884,0.3831174506785944]\n",
       " * Minimizer: [0.9280214348768906,0.8607748514707677]\n",
       " * Minimum: 5.201068e-03\n",
       " * Iterations: 1000\n",
       " * Convergence: false\n",
       "   * |x - x'| < 1.0e-32: false \n",
       "     |x - x'| = 2.03e-04 \n",
       "   * |f(x) - f(x')| / |f(x)| < 1.0e-32: false\n",
       "     |f(x) - f(x')| / |f(x)| = 2.04e-03 \n",
       "   * |g(x)| < 1.0e-08: false \n",
       "     |g(x)| = 8.98e-02 \n",
       "   * Stopped by an increasing objective: false\n",
       "   * Reached Maximum Number of Iterations: true\n",
       " * Objective Calls: 2505\n",
       " * Gradient Calls: 2505"
      ]
     },
     "execution_count": 131,
     "metadata": {},
     "output_type": "execute_result"
    }
   ],
   "source": [
    "result=optimize(rosenbrock, x0, GradientDescent(),Optim.Options(extended_trace=true,show_every=0,store_trace = true,show_trace = false)) "
   ]
  },
  {
   "cell_type": "code",
   "execution_count": 132,
   "metadata": {},
   "outputs": [
    {
     "name": "stdout",
     "output_type": "stream",
     "text": [
      "Average number of iterations for rosenbrock averaged over 1000 iterations: 997.945\n",
      "Average number of iterations for himmelblau averaged over 1000 iterations: 25.238\n",
      "Average number of iterations for booth averaged over 1000 iterations: 13.541\n"
     ]
    }
   ],
   "source": [
    "funs = [rosenbrock, himmelblau, booth]\n",
    "\n",
    "for fun in funs\n",
    "    k_tot = 0 \n",
    "    for i = 1:n_x0\n",
    "        x0 = rand(2); \n",
    "        result=optimize(fun, x0, GradientDescent(),Optim.Options(extended_trace=true,show_every=0,store_trace = true,show_trace = false)) \n",
    "        k_tot += result.iterations\n",
    "    end\n",
    "    println(\"Average number of iterations for $(fun) averaged over $(n_x0) iterations: $(k_tot/n_x0)\")\n",
    "end"
   ]
  },
  {
   "cell_type": "code",
   "execution_count": 133,
   "metadata": {},
   "outputs": [],
   "source": [
    "result.trace; "
   ]
  },
  {
   "cell_type": "markdown",
   "metadata": {},
   "source": [
    "## Memory"
   ]
  },
  {
   "cell_type": "code",
   "execution_count": null,
   "metadata": {},
   "outputs": [],
   "source": [
    "funs = [rosenbrock, himmelblau, booth]\n",
    "n_x0 = 1000\n",
    "println(\"\\n=========================================================\\nResults: \\n=========================================================\")\n",
    "\n",
    "# compare different test functions\n",
    "for fun in funs\n",
    "    mem_tot = 0 \n",
    "\n",
    "    for i = 1:n_x0\n",
    "        x0 = rand(2); \n",
    "        mem = @allocated optimize(fun, x0, GradientDescent(),Optim.Options(extended_trace=true,show_every=0,store_trace = true,show_trace = false)) \n",
    "        mem_tot += mem\n",
    "    end\n",
    "\n",
    "    println(\"Average memory in [kB] allocated for $(fun), averaged over $(n_x0) iterations: $(mem_tot/(n_x0*1000))\")\n",
    "end"
   ]
  },
  {
   "cell_type": "markdown",
   "metadata": {},
   "source": [
    "## Newton's Method"
   ]
  },
  {
   "cell_type": "code",
   "execution_count": null,
   "metadata": {},
   "outputs": [],
   "source": [
    "result=optimize(rosenbrock, x0, Newton(),Optim.Options(extended_trace=true,show_every=0,store_trace = true)) "
   ]
  },
  {
   "cell_type": "code",
   "execution_count": null,
   "metadata": {},
   "outputs": [],
   "source": [
    "funs = [rosenbrock, himmelblau, booth]\n",
    "\n",
    "for fun in funs\n",
    "    k_tot = 0 \n",
    "    for i = 1:n_x0\n",
    "        x0 = rand(2); \n",
    "        result=optimize(fun, x0, Newton(),Optim.Options(extended_trace=true,show_every=0,store_trace = true))  \n",
    "        k_tot += result.iterations\n",
    "    end\n",
    "    println(\"Average number of iterations for $(fun) averaged over $(n_x0) iterations: $(k_tot/n_x0)\")\n",
    "end"
   ]
  },
  {
   "cell_type": "code",
   "execution_count": null,
   "metadata": {},
   "outputs": [],
   "source": [
    "result.trace;"
   ]
  },
  {
   "cell_type": "markdown",
   "metadata": {},
   "source": [
    "## Memory"
   ]
  },
  {
   "cell_type": "code",
   "execution_count": null,
   "metadata": {},
   "outputs": [],
   "source": [
    "funs = [rosenbrock, himmelblau, booth]\n",
    "n_x0 = 1000\n",
    "println(\"\\n=========================================================\\nResults: \\n=========================================================\")\n",
    "\n",
    "# compare different test functions\n",
    "for fun in funs\n",
    "    mem_tot = 0 \n",
    "\n",
    "    for i = 1:n_x0\n",
    "        x0 = rand(2); \n",
    "        mem = @allocated optimize(fun, x0, Newton(),Optim.Options(extended_trace=true,show_every=0,store_trace = true))\n",
    "        mem_tot += mem\n",
    "    end\n",
    "\n",
    "    println(\"Average memory in [kB] allocated for $(fun), averaged over $(n_x0) iterations: $(mem_tot/(n_x0*1000))\")\n",
    "end"
   ]
  },
  {
   "cell_type": "markdown",
   "metadata": {},
   "source": [
    "## BFGS"
   ]
  },
  {
   "cell_type": "code",
   "execution_count": null,
   "metadata": {},
   "outputs": [],
   "source": [
    "result=optimize(rosenbrock, x0, BFGS(),Optim.Options(extended_trace=true,show_every=0,store_trace = true))"
   ]
  },
  {
   "cell_type": "code",
   "execution_count": null,
   "metadata": {},
   "outputs": [],
   "source": [
    "funs = [rosenbrock, himmelblau, booth]\n",
    "\n",
    "for fun in funs\n",
    "    k_tot = 0 \n",
    "    for i = 1:n_x0\n",
    "        x0 = rand(2); \n",
    "        result=optimize(fun, x0, BFGS(),Optim.Options(extended_trace=true,show_every=0,store_trace = true))\n",
    "        k_tot += result.iterations\n",
    "    end\n",
    "    println(\"Average number of iterations for $(fun) averaged over $(n_x0) iterations: $(k_tot/n_x0)\")\n",
    "end"
   ]
  },
  {
   "cell_type": "markdown",
   "metadata": {},
   "source": [
    "## Memory"
   ]
  },
  {
   "cell_type": "code",
   "execution_count": null,
   "metadata": {},
   "outputs": [],
   "source": [
    "funs = [rosenbrock, himmelblau, booth]\n",
    "n_x0 = 1000\n",
    "println(\"\\n=========================================================\\nResults: \\n=========================================================\")\n",
    "\n",
    "# compare different test functions\n",
    "for fun in funs\n",
    "    mem_tot = 0 \n",
    "\n",
    "    for i = 1:n_x0\n",
    "        x0 = rand(2); \n",
    "        mem = @allocated optimize(fun, x0, BFGS(),Optim.Options(extended_trace=true,show_every=0,store_trace = true))\n",
    "        mem_tot += mem\n",
    "    end\n",
    "\n",
    "    println(\"Average memory in [kB] allocated for $(fun), averaged over $(n_x0) iterations: $(mem_tot/(n_x0*1000))\")\n",
    "end"
   ]
  }
 ],
 "metadata": {
  "kernelspec": {
   "display_name": "Julia 0.6.2",
   "language": "julia",
   "name": "julia-0.6"
  },
  "language_info": {
   "file_extension": ".jl",
   "mimetype": "application/julia",
   "name": "julia",
   "version": "0.6.2"
  }
 },
 "nbformat": 4,
 "nbformat_minor": 2
}
