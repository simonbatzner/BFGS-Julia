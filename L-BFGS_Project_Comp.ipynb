{
 "cells": [
  {
   "cell_type": "markdown",
   "metadata": {},
   "source": [
    "# <div style=\"text-align: center\">18.335/6.337 Final Project - The L-BFGS algorithm</div>\n",
    "##  <div style=\"text-align: center\">Comparison to Optim.jl (using Strong Wolfe Line-Search in our implementation)</div>\n",
    "### <div style=\"text-align: center\">Created by Yusu Liu and Simon Batzner</div>"
   ]
  },
  {
   "cell_type": "code",
   "execution_count": 84,
   "metadata": {},
   "outputs": [],
   "source": [
    "using Optim, LineSearches"
   ]
  },
  {
   "cell_type": "code",
   "execution_count": 85,
   "metadata": {},
   "outputs": [
    {
     "data": {
      "text/plain": [
       "booth (generic function with 1 method)"
      ]
     },
     "execution_count": 85,
     "metadata": {},
     "output_type": "execute_result"
    }
   ],
   "source": [
    "# initial guess\n",
    "x0 = [0.75, 2.0]\n",
    "\n",
    "rosenbrock(x) = (1-x[1])^2 + 100*(x[2]-x[1]^2)^2\n",
    "himmelblau(x) =(x[1]^2+x[2]-11)^2+(x[1]+x[2]^2-7)^2\n",
    "booth(x) =(x[1]+2*x[2]-7)^2+(2*x[1]+x[2]-5)^2"
   ]
  },
  {
   "cell_type": "markdown",
   "metadata": {},
   "source": [
    "## L-BFGS w/ Backtraing Line Search"
   ]
  },
  {
   "cell_type": "code",
   "execution_count": 86,
   "metadata": {},
   "outputs": [
    {
     "data": {
      "text/plain": [
       "Results of Optimization Algorithm\n",
       " * Algorithm: L-BFGS\n",
       " * Starting Point: [0.75,2.0]\n",
       " * Minimizer: [0.9999999921779434,0.9999999843428273]\n",
       " * Minimum: 6.120162e-17\n",
       " * Iterations: 28\n",
       " * Convergence: true\n",
       "   * |x - x'| < 1.0e-32: false \n",
       "     |x - x'| = 3.86e-08 \n",
       "   * |f(x) - f(x')| / |f(x)| < 1.0e-32: false\n",
       "     |f(x) - f(x')| / |f(x)| = 1.65e+01 \n",
       "   * |g(x)| < 1.0e-08: true \n",
       "     |g(x)| = 4.25e-09 \n",
       "   * Stopped by an increasing objective: false\n",
       "   * Reached Maximum Number of Iterations: false\n",
       " * Objective Calls: 41\n",
       " * Gradient Calls: 29"
      ]
     },
     "execution_count": 86,
     "metadata": {},
     "output_type": "execute_result"
    }
   ],
   "source": [
    "result=optimize(rosenbrock, x0, LBFGS(linesearch = LineSearches.BackTracking()),Optim.Options(extended_trace=true, show_every=0, store_trace = true, show_trace = false))\n",
    "\n"
   ]
  },
  {
   "cell_type": "code",
   "execution_count": 87,
   "metadata": {},
   "outputs": [
    {
     "name": "stdout",
     "output_type": "stream",
     "text": [
      "Average number of iterations for rosenbrock averaged over 1000 iterations: 23.67\n",
      "Average number of iterations for himmelblau averaged over 1000 iterations: 10.595\n",
      "Average number of iterations for booth averaged over 1000 iterations: 6.33\n"
     ]
    }
   ],
   "source": [
    "n_x0 = 1000\n",
    "funs = [rosenbrock, himmelblau, booth]\n",
    "\n",
    "for fun in funs\n",
    "    k_tot = 0 \n",
    "    for i = 1:n_x0\n",
    "        x0 = rand(2); \n",
    "        result=optimize(fun, x0, LBFGS(linesearch = LineSearches.BackTracking()),Optim.Options(extended_trace=true,show_every=0,store_trace = true,show_trace = false))\n",
    "        k_tot += result.iterations\n",
    "    end\n",
    "    println(\"Average number of iterations for $(fun) averaged over $(n_x0) iterations: $(k_tot/n_x0)\")\n",
    "end"
   ]
  },
  {
   "cell_type": "markdown",
   "metadata": {},
   "source": [
    "## L-BFGS w/ StrongWolfe Line Search"
   ]
  },
  {
   "cell_type": "code",
   "execution_count": 88,
   "metadata": {},
   "outputs": [
    {
     "data": {
      "text/plain": [
       "Results of Optimization Algorithm\n",
       " * Algorithm: L-BFGS\n",
       " * Starting Point: [0.5791220818838023,0.7615714133755229]\n",
       " * Minimizer: [0.9999999926727346,0.9999999853450859]\n",
       " * Minimum: 5.368883e-17\n",
       " * Iterations: 16\n",
       " * Convergence: true\n",
       "   * |x - x'| < 1.0e-32: false \n",
       "     |x - x'| = 3.42e-10 \n",
       "   * |f(x) - f(x')| / |f(x)| < 1.0e-32: false\n",
       "     |f(x) - f(x')| / |f(x)| = 1.22e-01 \n",
       "   * |g(x)| < 1.0e-08: true \n",
       "     |g(x)| = 1.66e-10 \n",
       "   * Stopped by an increasing objective: false\n",
       "   * Reached Maximum Number of Iterations: false\n",
       " * Objective Calls: 38\n",
       " * Gradient Calls: 30"
      ]
     },
     "execution_count": 88,
     "metadata": {},
     "output_type": "execute_result"
    }
   ],
   "source": [
    "result=optimize(rosenbrock, x0, LBFGS(linesearch = LineSearches.StrongWolfe()),Optim.Options(extended_trace=true,show_every=0,store_trace = true,show_trace = false))"
   ]
  },
  {
   "cell_type": "code",
   "execution_count": 89,
   "metadata": {},
   "outputs": [
    {
     "name": "stdout",
     "output_type": "stream",
     "text": [
      "Average number of iterations for rosenbrock averaged over 1000 iterations: 21.56\n",
      "Average number of iterations for himmelblau averaged over 1000 iterations: 9.746\n",
      "Average number of iterations for booth averaged over 1000 iterations: 3.0\n"
     ]
    }
   ],
   "source": [
    "n_x0 = 1000\n",
    "funs = [rosenbrock, himmelblau, booth]\n",
    "\n",
    "for fun in funs\n",
    "    k_tot = 0 \n",
    "    for i = 1:n_x0\n",
    "        x0 = rand(2); \n",
    "        result=optimize(fun, x0, LBFGS(linesearch = LineSearches.StrongWolfe()),Optim.Options(extended_trace=true,show_every=0,store_trace = true,show_trace = false))\n",
    "        k_tot += result.iterations\n",
    "    end\n",
    "    println(\"Average number of iterations for $(fun) averaged over $(n_x0) iterations: $(k_tot/n_x0)\")\n",
    "end"
   ]
  },
  {
   "cell_type": "code",
   "execution_count": 90,
   "metadata": {},
   "outputs": [],
   "source": [
    "result.trace;"
   ]
  },
  {
   "cell_type": "markdown",
   "metadata": {},
   "source": [
    "## L-BFGS w/ HagerZhang Line Search"
   ]
  },
  {
   "cell_type": "code",
   "execution_count": 91,
   "metadata": {},
   "outputs": [
    {
     "data": {
      "text/plain": [
       "Results of Optimization Algorithm\n",
       " * Algorithm: L-BFGS\n",
       " * Starting Point: [0.5955311856690897,0.5396527335386503]\n",
       " * Minimizer: [0.9999999926637798,0.9999999853240878]\n",
       " * Minimum: 5.382133e-17\n",
       " * Iterations: 15\n",
       " * Convergence: true\n",
       "   * |x - x'| < 1.0e-32: false \n",
       "     |x - x'| = 2.22e-06 \n",
       "   * |f(x) - f(x')| / |f(x)| < 1.0e-32: false\n",
       "     |f(x) - f(x')| / |f(x)| = 2.28e+04 \n",
       "   * |g(x)| < 1.0e-08: true \n",
       "     |g(x)| = 1.38e-09 \n",
       "   * Stopped by an increasing objective: false\n",
       "   * Reached Maximum Number of Iterations: false\n",
       " * Objective Calls: 43\n",
       " * Gradient Calls: 43"
      ]
     },
     "execution_count": 91,
     "metadata": {},
     "output_type": "execute_result"
    }
   ],
   "source": [
    "result=optimize(rosenbrock, x0, LBFGS(linesearch = LineSearches.HagerZhang()),Optim.Options(extended_trace=true,show_every=0,store_trace = true,show_trace = false))"
   ]
  },
  {
   "cell_type": "code",
   "execution_count": 92,
   "metadata": {},
   "outputs": [
    {
     "name": "stdout",
     "output_type": "stream",
     "text": [
      "Average number of iterations for rosenbrock averaged over 1000 iterations: 15.515\n",
      "Average number of iterations for himmelblau averaged over 1000 iterations: 8.539\n",
      "Average number of iterations for booth averaged over 1000 iterations: 2.019\n"
     ]
    }
   ],
   "source": [
    "funs = [rosenbrock, himmelblau, booth]\n",
    "\n",
    "for fun in funs\n",
    "    k_tot = 0 \n",
    "    for i = 1:n_x0\n",
    "        x0 = rand(2); \n",
    "        result=optimize(fun, x0, LBFGS(linesearch = LineSearches.HagerZhang()),Optim.Options(extended_trace=true,show_every=0,store_trace = true,show_trace = false))\n",
    "        k_tot += result.iterations\n",
    "    end\n",
    "    println(\"Average number of iterations for $(fun) averaged over $(n_x0) iterations: $(k_tot/n_x0)\")\n",
    "end"
   ]
  },
  {
   "cell_type": "code",
   "execution_count": 93,
   "metadata": {},
   "outputs": [],
   "source": [
    "result.trace; "
   ]
  },
  {
   "cell_type": "markdown",
   "metadata": {},
   "source": [
    "## L-BFGS w/ MoreThuente Line Search"
   ]
  },
  {
   "cell_type": "code",
   "execution_count": 94,
   "metadata": {},
   "outputs": [
    {
     "data": {
      "text/plain": [
       "Results of Optimization Algorithm\n",
       " * Algorithm: L-BFGS\n",
       " * Starting Point: [0.33163611976075136,0.8041479153000703]\n",
       " * Minimizer: [0.9999999927106917,0.9999999854188073]\n",
       " * Minimum: 5.313468e-17\n",
       " * Iterations: 22\n",
       " * Convergence: true\n",
       "   * |x - x'| < 1.0e-32: false \n",
       "     |x - x'| = 1.67e-09 \n",
       "   * |f(x) - f(x')| / |f(x)| < 1.0e-32: false\n",
       "     |f(x) - f(x')| / |f(x)| = 9.01e+00 \n",
       "   * |g(x)| < 1.0e-08: true \n",
       "     |g(x)| = 1.12e-09 \n",
       "   * Stopped by an increasing objective: false\n",
       "   * Reached Maximum Number of Iterations: false\n",
       " * Objective Calls: 27\n",
       " * Gradient Calls: 27"
      ]
     },
     "execution_count": 94,
     "metadata": {},
     "output_type": "execute_result"
    }
   ],
   "source": [
    "result=optimize(rosenbrock, x0, LBFGS(linesearch = LineSearches.MoreThuente()),Optim.Options(extended_trace=true,show_every=0,store_trace = true,show_trace = false)) "
   ]
  },
  {
   "cell_type": "code",
   "execution_count": 95,
   "metadata": {},
   "outputs": [
    {
     "name": "stdout",
     "output_type": "stream",
     "text": [
      "Average number of iterations for rosenbrock averaged over 1000 iterations: 21.508\n",
      "Average number of iterations for himmelblau averaged over 1000 iterations: 9.999\n",
      "Average number of iterations for booth averaged over 1000 iterations: 3.0\n"
     ]
    }
   ],
   "source": [
    "funs = [rosenbrock, himmelblau, booth]\n",
    "\n",
    "for fun in funs\n",
    "    k_tot = 0 \n",
    "    for i = 1:n_x0\n",
    "        x0 = rand(2); \n",
    "        result=optimize(fun, x0, LBFGS(linesearch = LineSearches.MoreThuente()),Optim.Options(extended_trace=true,show_every=0,store_trace = true,show_trace = false)) \n",
    "        k_tot += result.iterations\n",
    "    end\n",
    "    println(\"Average number of iterations for $(fun) averaged over $(n_x0) iterations: $(k_tot/n_x0)\")\n",
    "end"
   ]
  },
  {
   "cell_type": "code",
   "execution_count": 96,
   "metadata": {},
   "outputs": [],
   "source": [
    "result.trace; "
   ]
  },
  {
   "cell_type": "markdown",
   "metadata": {},
   "source": [
    "## Gradient Descent"
   ]
  },
  {
   "cell_type": "code",
   "execution_count": 97,
   "metadata": {},
   "outputs": [
    {
     "data": {
      "text/plain": [
       "Results of Optimization Algorithm\n",
       " * Algorithm: Gradient Descent\n",
       " * Starting Point: [0.30809147446013063,0.3208538976684723]\n",
       " * Minimizer: [0.9132730287086156,0.833547151064859]\n",
       " * Minimum: 7.548657e-03\n",
       " * Iterations: 1000\n",
       " * Convergence: false\n",
       "   * |x - x'| < 1.0e-32: false \n",
       "     |x - x'| = 2.48e-04 \n",
       "   * |f(x) - f(x')| / |f(x)| < 1.0e-32: false\n",
       "     |f(x) - f(x')| / |f(x)| = 2.26e-03 \n",
       "   * |g(x)| < 1.0e-08: false \n",
       "     |g(x)| = 1.04e-01 \n",
       "   * Stopped by an increasing objective: false\n",
       "   * Reached Maximum Number of Iterations: true\n",
       " * Objective Calls: 2506\n",
       " * Gradient Calls: 2506"
      ]
     },
     "execution_count": 97,
     "metadata": {},
     "output_type": "execute_result"
    }
   ],
   "source": [
    "result=optimize(rosenbrock, x0, GradientDescent(),Optim.Options(extended_trace=true,show_every=0,store_trace = true,show_trace = false)) "
   ]
  },
  {
   "cell_type": "code",
   "execution_count": 98,
   "metadata": {},
   "outputs": [
    {
     "name": "stdout",
     "output_type": "stream",
     "text": [
      "Average number of iterations for rosenbrock averaged over 1000 iterations: 998.732\n",
      "Average number of iterations for himmelblau averaged over 1000 iterations: 25.248\n",
      "Average number of iterations for booth averaged over 1000 iterations: 13.567\n"
     ]
    }
   ],
   "source": [
    "funs = [rosenbrock, himmelblau, booth]\n",
    "\n",
    "for fun in funs\n",
    "    k_tot = 0 \n",
    "    for i = 1:n_x0\n",
    "        x0 = rand(2); \n",
    "        result=optimize(fun, x0, GradientDescent(),Optim.Options(extended_trace=true,show_every=0,store_trace = true,show_trace = false)) \n",
    "        k_tot += result.iterations\n",
    "    end\n",
    "    println(\"Average number of iterations for $(fun) averaged over $(n_x0) iterations: $(k_tot/n_x0)\")\n",
    "end"
   ]
  },
  {
   "cell_type": "code",
   "execution_count": 99,
   "metadata": {},
   "outputs": [],
   "source": [
    "result.trace; "
   ]
  },
  {
   "cell_type": "markdown",
   "metadata": {},
   "source": [
    "## Newton's Method"
   ]
  },
  {
   "cell_type": "code",
   "execution_count": 100,
   "metadata": {},
   "outputs": [
    {
     "data": {
      "text/plain": [
       "Results of Optimization Algorithm\n",
       " * Algorithm: Newton's Method\n",
       " * Starting Point: [0.33840407892523117,0.9069721409303624]\n",
       " * Minimizer: [0.9999999926966292,0.9999999853937394]\n",
       " * Minimum: 5.333925e-17\n",
       " * Iterations: 9\n",
       " * Convergence: true\n",
       "   * |x - x'| < 1.0e-32: false \n",
       "     |x - x'| = 6.76e-07 \n",
       "   * |f(x) - f(x')| / |f(x)| < 1.0e-32: false\n",
       "     |f(x) - f(x')| / |f(x)| = 1.86e+05 \n",
       "   * |g(x)| < 1.0e-08: true \n",
       "     |g(x)| = 1.32e-10 \n",
       "   * Stopped by an increasing objective: false\n",
       "   * Reached Maximum Number of Iterations: false\n",
       " * Objective Calls: 34\n",
       " * Gradient Calls: 34\n",
       " * Hessian Calls: 9"
      ]
     },
     "execution_count": 100,
     "metadata": {},
     "output_type": "execute_result"
    }
   ],
   "source": [
    "result=optimize(rosenbrock, x0, Newton(),Optim.Options(extended_trace=true,show_every=0,store_trace = true)) "
   ]
  },
  {
   "cell_type": "code",
   "execution_count": 101,
   "metadata": {},
   "outputs": [
    {
     "name": "stdout",
     "output_type": "stream",
     "text": [
      "Average number of iterations for rosenbrock averaged over 1000 iterations: 10.121\n",
      "Average number of iterations for himmelblau averaged over 1000 iterations: 6.754\n",
      "Average number of iterations for booth averaged over 1000 iterations: 2.0\n"
     ]
    }
   ],
   "source": [
    "funs = [rosenbrock, himmelblau, booth]\n",
    "\n",
    "for fun in funs\n",
    "    k_tot = 0 \n",
    "    for i = 1:n_x0\n",
    "        x0 = rand(2); \n",
    "        result=optimize(fun, x0, Newton(),Optim.Options(extended_trace=true,show_every=0,store_trace = true))  \n",
    "        k_tot += result.iterations\n",
    "    end\n",
    "    println(\"Average number of iterations for $(fun) averaged over $(n_x0) iterations: $(k_tot/n_x0)\")\n",
    "end"
   ]
  },
  {
   "cell_type": "code",
   "execution_count": 102,
   "metadata": {},
   "outputs": [],
   "source": [
    "result.trace;"
   ]
  },
  {
   "cell_type": "markdown",
   "metadata": {},
   "source": [
    "## BFGS"
   ]
  },
  {
   "cell_type": "code",
   "execution_count": 103,
   "metadata": {},
   "outputs": [
    {
     "data": {
      "text/plain": [
       "Results of Optimization Algorithm\n",
       " * Algorithm: BFGS\n",
       " * Starting Point: [0.37365122670235973,0.5540609404328596]\n",
       " * Minimizer: [0.9999999926651278,0.999999985330396]\n",
       " * Minimum: 5.380035e-17\n",
       " * Iterations: 16\n",
       " * Convergence: true\n",
       "   * |x - x'| < 1.0e-32: false \n",
       "     |x - x'| = 1.20e-07 \n",
       "   * |f(x) - f(x')| / |f(x)| < 1.0e-32: false\n",
       "     |f(x) - f(x')| / |f(x)| = 9.02e+01 \n",
       "   * |g(x)| < 1.0e-08: true \n",
       "     |g(x)| = 5.84e-11 \n",
       "   * Stopped by an increasing objective: false\n",
       "   * Reached Maximum Number of Iterations: false\n",
       " * Objective Calls: 47\n",
       " * Gradient Calls: 47"
      ]
     },
     "execution_count": 103,
     "metadata": {},
     "output_type": "execute_result"
    }
   ],
   "source": [
    "result=optimize(rosenbrock, x0, BFGS(),Optim.Options(extended_trace=true,show_every=0,store_trace = true))"
   ]
  },
  {
   "cell_type": "code",
   "execution_count": 104,
   "metadata": {},
   "outputs": [
    {
     "name": "stdout",
     "output_type": "stream",
     "text": [
      "Average number of iterations for rosenbrock averaged over 1000 iterations: 14.765\n",
      "Average number of iterations for himmelblau averaged over 1000 iterations: 8.557\n",
      "Average number of iterations for booth averaged over 1000 iterations: 2.0\n"
     ]
    }
   ],
   "source": [
    "funs = [rosenbrock, himmelblau, booth]\n",
    "\n",
    "for fun in funs\n",
    "    k_tot = 0 \n",
    "    for i = 1:n_x0\n",
    "        x0 = rand(2); \n",
    "        result=optimize(fun, x0, BFGS(),Optim.Options(extended_trace=true,show_every=0,store_trace = true))\n",
    "        k_tot += result.iterations\n",
    "    end\n",
    "    println(\"Average number of iterations for $(fun) averaged over $(n_x0) iterations: $(k_tot/n_x0)\")\n",
    "end"
   ]
  },
  {
   "cell_type": "code",
   "execution_count": 105,
   "metadata": {},
   "outputs": [
    {
     "data": {
      "text/plain": [
       "21-element Array{Symbol,1}:\n",
       " :method             \n",
       " :iscomplex          \n",
       " :initial_x          \n",
       " :minimizer          \n",
       " :minimum            \n",
       " :iterations         \n",
       " :iteration_converged\n",
       " :x_converged        \n",
       " :x_tol              \n",
       " :x_residual         \n",
       " :f_converged        \n",
       " :f_tol              \n",
       " :f_residual         \n",
       " :g_converged        \n",
       " :g_tol              \n",
       " :g_residual         \n",
       " :f_increased        \n",
       " :trace              \n",
       " :f_calls            \n",
       " :g_calls            \n",
       " :h_calls            "
      ]
     },
     "execution_count": 105,
     "metadata": {},
     "output_type": "execute_result"
    }
   ],
   "source": [
    "result.trace;\n",
    "fieldnames(result) "
   ]
  }
 ],
 "metadata": {
  "kernelspec": {
   "display_name": "Julia 0.6.2",
   "language": "julia",
   "name": "julia-0.6"
  },
  "language_info": {
   "file_extension": ".jl",
   "mimetype": "application/julia",
   "name": "julia",
   "version": "0.6.2"
  }
 },
 "nbformat": 4,
 "nbformat_minor": 2
}
